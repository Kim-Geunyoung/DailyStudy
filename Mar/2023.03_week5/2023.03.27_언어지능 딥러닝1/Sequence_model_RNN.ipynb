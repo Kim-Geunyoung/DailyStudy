{
  "nbformat": 4,
  "nbformat_minor": 0,
  "metadata": {
    "colab": {
      "provenance": [],
      "toc_visible": true
    },
    "kernelspec": {
      "name": "python3",
      "display_name": "Python 3"
    },
    "language_info": {
      "name": "python"
    }
  },
  "cells": [
    {
      "cell_type": "markdown",
      "source": [
        "# RNN(Recurrent Neural Network)\n",
        "- 은닉층에서 나온 결과값이 다시 은닉층으로 돌아가 새로운 입력값과 연산을 수행하는 순환구조.\n"
      ],
      "metadata": {
        "id": "_xE-GeVjWHCe"
      }
    },
    {
      "cell_type": "markdown",
      "source": [
        "![이미지](https://github.com/Kim-Geunyoung/DailyStudy/blob/master/Images/RNN_%EC%88%9C%ED%99%98%EA%B5%AC%EC%A1%B0.png?raw=true)"
      ],
      "metadata": {
        "id": "-Nt_V-RThS4V"
      }
    },
    {
      "cell_type": "markdown",
      "source": [
        "위 이미지는 RNN의 기본적인 순환구조이다.  \n",
        "-> 설명 추가"
      ],
      "metadata": {
        "id": "X_i3Hx9BjnYj"
      }
    },
    {
      "cell_type": "markdown",
      "source": [
        "## 실습"
      ],
      "metadata": {
        "id": "uN7Y-uyAb9Np"
      }
    },
    {
      "cell_type": "markdown",
      "source": [
        "### 주가 데이터 불러오기"
      ],
      "metadata": {
        "id": "s7-eKv1vnN0b"
      }
    },
    {
      "cell_type": "code",
      "source": [
        "!pip install yfinance"
      ],
      "metadata": {
        "id": "jigrcGCznS8U"
      },
      "execution_count": null,
      "outputs": []
    },
    {
      "cell_type": "code",
      "source": [
        "# 삼성전자 주가 정보 가져오기\n",
        "import yfinance as yf\n",
        "df = yf.download('005930.KS', '2022-01-01', '2022-12-31')\n",
        "df.head()"
      ],
      "metadata": {
        "colab": {
          "base_uri": "https://localhost:8080/",
          "height": 256
        },
        "id": "jFvPf_TpnXAZ",
        "outputId": "831ea22b-f976-4046-ead8-12b27a0fd717"
      },
      "execution_count": 4,
      "outputs": [
        {
          "output_type": "stream",
          "name": "stdout",
          "text": [
            "\r[*********************100%***********************]  1 of 1 completed\n"
          ]
        },
        {
          "output_type": "execute_result",
          "data": {
            "text/plain": [
              "               Open     High      Low    Close     Adj Close    Volume\n",
              "Date                                                                  \n",
              "2022-01-04  78800.0  79200.0  78300.0  78700.0  76808.164062  12427416\n",
              "2022-01-05  78800.0  79000.0  76400.0  77400.0  75539.421875  25470640\n",
              "2022-01-06  76700.0  77600.0  76600.0  76900.0  75051.445312  12931954\n",
              "2022-01-07  78100.0  78400.0  77400.0  78300.0  76417.789062  15163757\n",
              "2022-01-10  78100.0  78100.0  77100.0  78000.0  76125.000000   9947422"
            ],
            "text/html": [
              "\n",
              "  <div id=\"df-33fc6ecb-cba6-4908-8874-83fb842a1ee8\">\n",
              "    <div class=\"colab-df-container\">\n",
              "      <div>\n",
              "<style scoped>\n",
              "    .dataframe tbody tr th:only-of-type {\n",
              "        vertical-align: middle;\n",
              "    }\n",
              "\n",
              "    .dataframe tbody tr th {\n",
              "        vertical-align: top;\n",
              "    }\n",
              "\n",
              "    .dataframe thead th {\n",
              "        text-align: right;\n",
              "    }\n",
              "</style>\n",
              "<table border=\"1\" class=\"dataframe\">\n",
              "  <thead>\n",
              "    <tr style=\"text-align: right;\">\n",
              "      <th></th>\n",
              "      <th>Open</th>\n",
              "      <th>High</th>\n",
              "      <th>Low</th>\n",
              "      <th>Close</th>\n",
              "      <th>Adj Close</th>\n",
              "      <th>Volume</th>\n",
              "    </tr>\n",
              "    <tr>\n",
              "      <th>Date</th>\n",
              "      <th></th>\n",
              "      <th></th>\n",
              "      <th></th>\n",
              "      <th></th>\n",
              "      <th></th>\n",
              "      <th></th>\n",
              "    </tr>\n",
              "  </thead>\n",
              "  <tbody>\n",
              "    <tr>\n",
              "      <th>2022-01-04</th>\n",
              "      <td>78800.0</td>\n",
              "      <td>79200.0</td>\n",
              "      <td>78300.0</td>\n",
              "      <td>78700.0</td>\n",
              "      <td>76808.164062</td>\n",
              "      <td>12427416</td>\n",
              "    </tr>\n",
              "    <tr>\n",
              "      <th>2022-01-05</th>\n",
              "      <td>78800.0</td>\n",
              "      <td>79000.0</td>\n",
              "      <td>76400.0</td>\n",
              "      <td>77400.0</td>\n",
              "      <td>75539.421875</td>\n",
              "      <td>25470640</td>\n",
              "    </tr>\n",
              "    <tr>\n",
              "      <th>2022-01-06</th>\n",
              "      <td>76700.0</td>\n",
              "      <td>77600.0</td>\n",
              "      <td>76600.0</td>\n",
              "      <td>76900.0</td>\n",
              "      <td>75051.445312</td>\n",
              "      <td>12931954</td>\n",
              "    </tr>\n",
              "    <tr>\n",
              "      <th>2022-01-07</th>\n",
              "      <td>78100.0</td>\n",
              "      <td>78400.0</td>\n",
              "      <td>77400.0</td>\n",
              "      <td>78300.0</td>\n",
              "      <td>76417.789062</td>\n",
              "      <td>15163757</td>\n",
              "    </tr>\n",
              "    <tr>\n",
              "      <th>2022-01-10</th>\n",
              "      <td>78100.0</td>\n",
              "      <td>78100.0</td>\n",
              "      <td>77100.0</td>\n",
              "      <td>78000.0</td>\n",
              "      <td>76125.000000</td>\n",
              "      <td>9947422</td>\n",
              "    </tr>\n",
              "  </tbody>\n",
              "</table>\n",
              "</div>\n",
              "      <button class=\"colab-df-convert\" onclick=\"convertToInteractive('df-33fc6ecb-cba6-4908-8874-83fb842a1ee8')\"\n",
              "              title=\"Convert this dataframe to an interactive table.\"\n",
              "              style=\"display:none;\">\n",
              "        \n",
              "  <svg xmlns=\"http://www.w3.org/2000/svg\" height=\"24px\"viewBox=\"0 0 24 24\"\n",
              "       width=\"24px\">\n",
              "    <path d=\"M0 0h24v24H0V0z\" fill=\"none\"/>\n",
              "    <path d=\"M18.56 5.44l.94 2.06.94-2.06 2.06-.94-2.06-.94-.94-2.06-.94 2.06-2.06.94zm-11 1L8.5 8.5l.94-2.06 2.06-.94-2.06-.94L8.5 2.5l-.94 2.06-2.06.94zm10 10l.94 2.06.94-2.06 2.06-.94-2.06-.94-.94-2.06-.94 2.06-2.06.94z\"/><path d=\"M17.41 7.96l-1.37-1.37c-.4-.4-.92-.59-1.43-.59-.52 0-1.04.2-1.43.59L10.3 9.45l-7.72 7.72c-.78.78-.78 2.05 0 2.83L4 21.41c.39.39.9.59 1.41.59.51 0 1.02-.2 1.41-.59l7.78-7.78 2.81-2.81c.8-.78.8-2.07 0-2.86zM5.41 20L4 18.59l7.72-7.72 1.47 1.35L5.41 20z\"/>\n",
              "  </svg>\n",
              "      </button>\n",
              "      \n",
              "  <style>\n",
              "    .colab-df-container {\n",
              "      display:flex;\n",
              "      flex-wrap:wrap;\n",
              "      gap: 12px;\n",
              "    }\n",
              "\n",
              "    .colab-df-convert {\n",
              "      background-color: #E8F0FE;\n",
              "      border: none;\n",
              "      border-radius: 50%;\n",
              "      cursor: pointer;\n",
              "      display: none;\n",
              "      fill: #1967D2;\n",
              "      height: 32px;\n",
              "      padding: 0 0 0 0;\n",
              "      width: 32px;\n",
              "    }\n",
              "\n",
              "    .colab-df-convert:hover {\n",
              "      background-color: #E2EBFA;\n",
              "      box-shadow: 0px 1px 2px rgba(60, 64, 67, 0.3), 0px 1px 3px 1px rgba(60, 64, 67, 0.15);\n",
              "      fill: #174EA6;\n",
              "    }\n",
              "\n",
              "    [theme=dark] .colab-df-convert {\n",
              "      background-color: #3B4455;\n",
              "      fill: #D2E3FC;\n",
              "    }\n",
              "\n",
              "    [theme=dark] .colab-df-convert:hover {\n",
              "      background-color: #434B5C;\n",
              "      box-shadow: 0px 1px 3px 1px rgba(0, 0, 0, 0.15);\n",
              "      filter: drop-shadow(0px 1px 2px rgba(0, 0, 0, 0.3));\n",
              "      fill: #FFFFFF;\n",
              "    }\n",
              "  </style>\n",
              "\n",
              "      <script>\n",
              "        const buttonEl =\n",
              "          document.querySelector('#df-33fc6ecb-cba6-4908-8874-83fb842a1ee8 button.colab-df-convert');\n",
              "        buttonEl.style.display =\n",
              "          google.colab.kernel.accessAllowed ? 'block' : 'none';\n",
              "\n",
              "        async function convertToInteractive(key) {\n",
              "          const element = document.querySelector('#df-33fc6ecb-cba6-4908-8874-83fb842a1ee8');\n",
              "          const dataTable =\n",
              "            await google.colab.kernel.invokeFunction('convertToInteractive',\n",
              "                                                     [key], {});\n",
              "          if (!dataTable) return;\n",
              "\n",
              "          const docLinkHtml = 'Like what you see? Visit the ' +\n",
              "            '<a target=\"_blank\" href=https://colab.research.google.com/notebooks/data_table.ipynb>data table notebook</a>'\n",
              "            + ' to learn more about interactive tables.';\n",
              "          element.innerHTML = '';\n",
              "          dataTable['output_type'] = 'display_data';\n",
              "          await google.colab.output.renderOutput(dataTable, element);\n",
              "          const docLink = document.createElement('div');\n",
              "          docLink.innerHTML = docLinkHtml;\n",
              "          element.appendChild(docLink);\n",
              "        }\n",
              "      </script>\n",
              "    </div>\n",
              "  </div>\n",
              "  "
            ]
          },
          "metadata": {},
          "execution_count": 4
        }
      ]
    },
    {
      "cell_type": "markdown",
      "source": [
        "### 라이브러리 불러오기"
      ],
      "metadata": {
        "id": "w3ujHZ2YoGFj"
      }
    },
    {
      "cell_type": "code",
      "source": [
        "import numpy as np\n",
        "import pandas as pd\n",
        "import matplotlib.pyplot as plt\n",
        "import seaborn as sns\n",
        "import tensorflow.keras as tf\n",
        "from tensorflow import keras\n",
        "from sklearn.metrics import mean_squared_error\n",
        "from tensorflow.keras.utils import plot_model"
      ],
      "metadata": {
        "id": "Wswms8uyoOmj"
      },
      "execution_count": 5,
      "outputs": []
    },
    {
      "cell_type": "markdown",
      "source": [
        "### Sequence 데이터 구조로 만들기\n"
      ],
      "metadata": {
        "id": "vU7iYPLwoTwA"
      }
    },
    {
      "cell_type": "code",
      "source": [
        "# df의 값을 numpy array로 만들기\n",
        "df = df.values"
      ],
      "metadata": {
        "id": "5YqtNpoOobNv"
      },
      "execution_count": 6,
      "outputs": []
    },
    {
      "cell_type": "code",
      "source": [
        "df.shape"
      ],
      "metadata": {
        "colab": {
          "base_uri": "https://localhost:8080/"
        },
        "id": "Ef2ahtZfohm7",
        "outputId": "b1b94bd8-7e84-4a27-8d36-56172829a694"
      },
      "execution_count": 7,
      "outputs": [
        {
          "output_type": "execute_result",
          "data": {
            "text/plain": [
              "(244, 6)"
            ]
          },
          "metadata": {},
          "execution_count": 7
        }
      ]
    },
    {
      "cell_type": "code",
      "source": [
        "len(df)"
      ],
      "metadata": {
        "colab": {
          "base_uri": "https://localhost:8080/"
        },
        "id": "wclIqh6Mpf5S",
        "outputId": "35e6624d-2d77-491e-e534-5804179bf3be"
      },
      "execution_count": 8,
      "outputs": [
        {
          "output_type": "execute_result",
          "data": {
            "text/plain": [
              "244"
            ]
          },
          "metadata": {},
          "execution_count": 8
        }
      ]
    },
    {
      "cell_type": "code",
      "source": [
        "# 종가 예측하기\n",
        "\n",
        "# 한번에 고려할 기간 설정(일주일)\n",
        "timestep = 7\n",
        "\n",
        "# x의 데이터 구조를 3차원으로 변경하기 -> [데이터 수, 한번에 고려할 시점 수, 시점별 feature 수]\n",
        "x = []\n",
        "y = []\n",
        "\n",
        "for i in range(len(df)-timestep): \n",
        "    x.append(df[i:i+timestep, :])\n",
        "    y.append(df[i+timestep, -3])\n",
        "\n",
        "x = np.array(x)\n",
        "y = np.array(y)\n",
        "\n",
        "# train, val, test 나누기\n",
        "x_train, x_val, x_test = x[:154], x[154:199], x[199:]\n",
        "y_train, y_val, y_test = y[:154], y[154:199], y[199:]\n",
        "\n",
        "# shape 찍어보기\n",
        "print(f'x: {x.shape}, y: {y.shape}')\n",
        "print(f'x_train: {x_train.shape}, y_train: {y_train.shape}')\n",
        "print(f'x_val: {x_val.shape}, y_val: {y_val.shape}')\n",
        "print(f'x_test: {x_test.shape}, y_test: {y_test.shape}')"
      ],
      "metadata": {
        "colab": {
          "base_uri": "https://localhost:8080/"
        },
        "id": "H6LnGnvdoi28",
        "outputId": "ca405bf1-748a-4120-cb76-5cd44ca6ae0e"
      },
      "execution_count": 11,
      "outputs": [
        {
          "output_type": "stream",
          "name": "stdout",
          "text": [
            "x: (237, 7, 6), y: (237,)\n",
            "x_train: (154, 7, 6), y_train: (154,)\n",
            "x_val: (45, 7, 6), y_val: (45,)\n",
            "x_test: (38, 7, 6), y_test: (38,)\n"
          ]
        }
      ]
    },
    {
      "cell_type": "markdown",
      "source": [
        "## RNN 모델링"
      ],
      "metadata": {
        "id": "3p5pI0-CqSin"
      }
    },
    {
      "cell_type": "code",
      "source": [
        "from tensorflow.keras import *\n",
        "from tensorflow.keras.layers import *"
      ],
      "metadata": {
        "id": "cH4uml6CzSBU"
      },
      "execution_count": 13,
      "outputs": []
    },
    {
      "cell_type": "code",
      "source": [
        "# 세션 클리어\n",
        "backend.clear_session()\n",
        "\n",
        "# model 선언\n",
        "model = keras.models.Sequential()\n",
        "\n",
        "# 레이어 쌓기\n",
        "model.add(Input(shape=(7,6)))\n",
        "model.add(SimpleRNN(32, return_sequences=False, activation='tanh'))\n",
        "model.add(Dense(1, activation = 'linear'))\n",
        "\n",
        "# model compile\n",
        "model.compile(loss = 'mse', optimizer='adam')\n",
        "\n",
        "# model 요약\n",
        "model.summary()"
      ],
      "metadata": {
        "colab": {
          "base_uri": "https://localhost:8080/"
        },
        "id": "flrM1HXYqWZq",
        "outputId": "43f029e5-1d27-467e-cbc0-3bcb64491fdd"
      },
      "execution_count": 27,
      "outputs": [
        {
          "output_type": "stream",
          "name": "stdout",
          "text": [
            "Model: \"sequential\"\n",
            "_________________________________________________________________\n",
            " Layer (type)                Output Shape              Param #   \n",
            "=================================================================\n",
            " simple_rnn (SimpleRNN)      (None, 32)                1248      \n",
            "                                                                 \n",
            " dense (Dense)               (None, 1)                 33        \n",
            "                                                                 \n",
            "=================================================================\n",
            "Total params: 1,281\n",
            "Trainable params: 1,281\n",
            "Non-trainable params: 0\n",
            "_________________________________________________________________\n"
          ]
        }
      ]
    },
    {
      "cell_type": "code",
      "source": [
        "# model 학습\n",
        "hist = model.fit(x_train, y_train, validation_data=(x_val, y_val), epochs=100, verbose=1)"
      ],
      "metadata": {
        "colab": {
          "base_uri": "https://localhost:8080/"
        },
        "id": "mwZtk67X1RUN",
        "outputId": "4811aa2b-3a34-4937-912a-bf050df92a86"
      },
      "execution_count": 28,
      "outputs": [
        {
          "output_type": "stream",
          "name": "stdout",
          "text": [
            "Epoch 1/100\n",
            "5/5 [==============================] - 2s 101ms/step - loss: 4422395904.0000 - val_loss: 3208825344.0000\n",
            "Epoch 2/100\n",
            "5/5 [==============================] - 0s 15ms/step - loss: 4422375424.0000 - val_loss: 3208806656.0000\n",
            "Epoch 3/100\n",
            "5/5 [==============================] - 0s 16ms/step - loss: 4422355456.0000 - val_loss: 3208788224.0000\n",
            "Epoch 4/100\n",
            "5/5 [==============================] - 0s 16ms/step - loss: 4422335488.0000 - val_loss: 3208769280.0000\n",
            "Epoch 5/100\n",
            "5/5 [==============================] - 0s 20ms/step - loss: 4422315008.0000 - val_loss: 3208750592.0000\n",
            "Epoch 6/100\n",
            "5/5 [==============================] - 0s 18ms/step - loss: 4422295040.0000 - val_loss: 3208732416.0000\n",
            "Epoch 7/100\n",
            "5/5 [==============================] - 0s 16ms/step - loss: 4422274560.0000 - val_loss: 3208713984.0000\n",
            "Epoch 8/100\n",
            "5/5 [==============================] - 0s 24ms/step - loss: 4422254592.0000 - val_loss: 3208695040.0000\n",
            "Epoch 9/100\n",
            "5/5 [==============================] - 0s 16ms/step - loss: 4422234624.0000 - val_loss: 3208676096.0000\n",
            "Epoch 10/100\n",
            "5/5 [==============================] - 0s 16ms/step - loss: 4422214144.0000 - val_loss: 3208657920.0000\n",
            "Epoch 11/100\n",
            "5/5 [==============================] - 0s 18ms/step - loss: 4422194176.0000 - val_loss: 3208638976.0000\n",
            "Epoch 12/100\n",
            "5/5 [==============================] - 0s 19ms/step - loss: 4422173696.0000 - val_loss: 3208620288.0000\n",
            "Epoch 13/100\n",
            "5/5 [==============================] - 0s 11ms/step - loss: 4422153728.0000 - val_loss: 3208601856.0000\n",
            "Epoch 14/100\n",
            "5/5 [==============================] - 0s 10ms/step - loss: 4422133760.0000 - val_loss: 3208583168.0000\n",
            "Epoch 15/100\n",
            "5/5 [==============================] - 0s 15ms/step - loss: 4422113792.0000 - val_loss: 3208564736.0000\n",
            "Epoch 16/100\n",
            "5/5 [==============================] - 0s 11ms/step - loss: 4422093312.0000 - val_loss: 3208546048.0000\n",
            "Epoch 17/100\n",
            "5/5 [==============================] - 0s 11ms/step - loss: 4422073344.0000 - val_loss: 3208526848.0000\n",
            "Epoch 18/100\n",
            "5/5 [==============================] - 0s 16ms/step - loss: 4422052864.0000 - val_loss: 3208508672.0000\n",
            "Epoch 19/100\n",
            "5/5 [==============================] - 0s 11ms/step - loss: 4422032896.0000 - val_loss: 3208490496.0000\n",
            "Epoch 20/100\n",
            "5/5 [==============================] - 0s 15ms/step - loss: 4422012416.0000 - val_loss: 3208471808.0000\n",
            "Epoch 21/100\n",
            "5/5 [==============================] - 0s 11ms/step - loss: 4421992960.0000 - val_loss: 3208452608.0000\n",
            "Epoch 22/100\n",
            "5/5 [==============================] - 0s 11ms/step - loss: 4421972480.0000 - val_loss: 3208434176.0000\n",
            "Epoch 23/100\n",
            "5/5 [==============================] - 0s 13ms/step - loss: 4421952000.0000 - val_loss: 3208415488.0000\n",
            "Epoch 24/100\n",
            "5/5 [==============================] - 0s 12ms/step - loss: 4421932032.0000 - val_loss: 3208397056.0000\n",
            "Epoch 25/100\n",
            "5/5 [==============================] - 0s 13ms/step - loss: 4421912064.0000 - val_loss: 3208378624.0000\n",
            "Epoch 26/100\n",
            "5/5 [==============================] - 0s 11ms/step - loss: 4421891584.0000 - val_loss: 3208359936.0000\n",
            "Epoch 27/100\n",
            "5/5 [==============================] - 0s 15ms/step - loss: 4421871616.0000 - val_loss: 3208340992.0000\n",
            "Epoch 28/100\n",
            "5/5 [==============================] - 0s 12ms/step - loss: 4421851136.0000 - val_loss: 3208322048.0000\n",
            "Epoch 29/100\n",
            "5/5 [==============================] - 0s 11ms/step - loss: 4421831168.0000 - val_loss: 3208303872.0000\n",
            "Epoch 30/100\n",
            "5/5 [==============================] - 0s 15ms/step - loss: 4421811200.0000 - val_loss: 3208285440.0000\n",
            "Epoch 31/100\n",
            "5/5 [==============================] - 0s 15ms/step - loss: 4421791232.0000 - val_loss: 3208266496.0000\n",
            "Epoch 32/100\n",
            "5/5 [==============================] - 0s 16ms/step - loss: 4421770752.0000 - val_loss: 3208248320.0000\n",
            "Epoch 33/100\n",
            "5/5 [==============================] - 0s 12ms/step - loss: 4421750272.0000 - val_loss: 3208229632.0000\n",
            "Epoch 34/100\n",
            "5/5 [==============================] - 0s 15ms/step - loss: 4421730304.0000 - val_loss: 3208210688.0000\n",
            "Epoch 35/100\n",
            "5/5 [==============================] - 0s 12ms/step - loss: 4421710336.0000 - val_loss: 3208191744.0000\n",
            "Epoch 36/100\n",
            "5/5 [==============================] - 0s 13ms/step - loss: 4421689856.0000 - val_loss: 3208173312.0000\n",
            "Epoch 37/100\n",
            "5/5 [==============================] - 0s 12ms/step - loss: 4421669888.0000 - val_loss: 3208154624.0000\n",
            "Epoch 38/100\n",
            "5/5 [==============================] - 0s 12ms/step - loss: 4421649920.0000 - val_loss: 3208136192.0000\n",
            "Epoch 39/100\n",
            "5/5 [==============================] - 0s 14ms/step - loss: 4421629440.0000 - val_loss: 3208117504.0000\n",
            "Epoch 40/100\n",
            "5/5 [==============================] - 0s 11ms/step - loss: 4421609472.0000 - val_loss: 3208098560.0000\n",
            "Epoch 41/100\n",
            "5/5 [==============================] - 0s 13ms/step - loss: 4421588992.0000 - val_loss: 3208079616.0000\n",
            "Epoch 42/100\n",
            "5/5 [==============================] - 0s 16ms/step - loss: 4421569024.0000 - val_loss: 3208061440.0000\n",
            "Epoch 43/100\n",
            "5/5 [==============================] - 0s 11ms/step - loss: 4421549056.0000 - val_loss: 3208042496.0000\n",
            "Epoch 44/100\n",
            "5/5 [==============================] - 0s 11ms/step - loss: 4421528576.0000 - val_loss: 3208024064.0000\n",
            "Epoch 45/100\n",
            "5/5 [==============================] - 0s 11ms/step - loss: 4421508096.0000 - val_loss: 3208005376.0000\n",
            "Epoch 46/100\n",
            "5/5 [==============================] - 0s 11ms/step - loss: 4421488128.0000 - val_loss: 3207987200.0000\n",
            "Epoch 47/100\n",
            "5/5 [==============================] - 0s 11ms/step - loss: 4421468160.0000 - val_loss: 3207968256.0000\n",
            "Epoch 48/100\n",
            "5/5 [==============================] - 0s 11ms/step - loss: 4421447680.0000 - val_loss: 3207949312.0000\n",
            "Epoch 49/100\n",
            "5/5 [==============================] - 0s 15ms/step - loss: 4421427712.0000 - val_loss: 3207931136.0000\n",
            "Epoch 50/100\n",
            "5/5 [==============================] - 0s 12ms/step - loss: 4421407744.0000 - val_loss: 3207912192.0000\n",
            "Epoch 51/100\n",
            "5/5 [==============================] - 0s 11ms/step - loss: 4421387264.0000 - val_loss: 3207893504.0000\n",
            "Epoch 52/100\n",
            "5/5 [==============================] - 0s 11ms/step - loss: 4421367296.0000 - val_loss: 3207875072.0000\n",
            "Epoch 53/100\n",
            "5/5 [==============================] - 0s 11ms/step - loss: 4421347328.0000 - val_loss: 3207856128.0000\n",
            "Epoch 54/100\n",
            "5/5 [==============================] - 0s 15ms/step - loss: 4421326336.0000 - val_loss: 3207837440.0000\n",
            "Epoch 55/100\n",
            "5/5 [==============================] - 0s 11ms/step - loss: 4421306880.0000 - val_loss: 3207819008.0000\n",
            "Epoch 56/100\n",
            "5/5 [==============================] - 0s 16ms/step - loss: 4421286912.0000 - val_loss: 3207800320.0000\n",
            "Epoch 57/100\n",
            "5/5 [==============================] - 0s 11ms/step - loss: 4421266432.0000 - val_loss: 3207781888.0000\n",
            "Epoch 58/100\n",
            "5/5 [==============================] - 0s 15ms/step - loss: 4421246464.0000 - val_loss: 3207763200.0000\n",
            "Epoch 59/100\n",
            "5/5 [==============================] - 0s 11ms/step - loss: 4421225984.0000 - val_loss: 3207744000.0000\n",
            "Epoch 60/100\n",
            "5/5 [==============================] - 0s 11ms/step - loss: 4421206016.0000 - val_loss: 3207725824.0000\n",
            "Epoch 61/100\n",
            "5/5 [==============================] - 0s 11ms/step - loss: 4421186048.0000 - val_loss: 3207707136.0000\n",
            "Epoch 62/100\n",
            "5/5 [==============================] - 0s 11ms/step - loss: 4421165568.0000 - val_loss: 3207688704.0000\n",
            "Epoch 63/100\n",
            "5/5 [==============================] - 0s 12ms/step - loss: 4421145600.0000 - val_loss: 3207670016.0000\n",
            "Epoch 64/100\n",
            "5/5 [==============================] - 0s 15ms/step - loss: 4421125120.0000 - val_loss: 3207651584.0000\n",
            "Epoch 65/100\n",
            "5/5 [==============================] - 0s 15ms/step - loss: 4421105152.0000 - val_loss: 3207632896.0000\n",
            "Epoch 66/100\n",
            "5/5 [==============================] - 0s 11ms/step - loss: 4421085184.0000 - val_loss: 3207614464.0000\n",
            "Epoch 67/100\n",
            "5/5 [==============================] - 0s 15ms/step - loss: 4421064704.0000 - val_loss: 3207595008.0000\n",
            "Epoch 68/100\n",
            "5/5 [==============================] - 0s 15ms/step - loss: 4421044736.0000 - val_loss: 3207576576.0000\n",
            "Epoch 69/100\n",
            "5/5 [==============================] - 0s 11ms/step - loss: 4421023744.0000 - val_loss: 3207558400.0000\n",
            "Epoch 70/100\n",
            "5/5 [==============================] - 0s 15ms/step - loss: 4421004288.0000 - val_loss: 3207539712.0000\n",
            "Epoch 71/100\n",
            "5/5 [==============================] - 0s 13ms/step - loss: 4420983808.0000 - val_loss: 3207521280.0000\n",
            "Epoch 72/100\n",
            "5/5 [==============================] - 0s 17ms/step - loss: 4420963840.0000 - val_loss: 3207502336.0000\n",
            "Epoch 73/100\n",
            "5/5 [==============================] - 0s 16ms/step - loss: 4420943360.0000 - val_loss: 3207483392.0000\n",
            "Epoch 74/100\n",
            "5/5 [==============================] - 0s 11ms/step - loss: 4420923392.0000 - val_loss: 3207465216.0000\n",
            "Epoch 75/100\n",
            "5/5 [==============================] - 0s 15ms/step - loss: 4420903424.0000 - val_loss: 3207446272.0000\n",
            "Epoch 76/100\n",
            "5/5 [==============================] - 0s 11ms/step - loss: 4420882944.0000 - val_loss: 3207427584.0000\n",
            "Epoch 77/100\n",
            "5/5 [==============================] - 0s 11ms/step - loss: 4420862976.0000 - val_loss: 3207409152.0000\n",
            "Epoch 78/100\n",
            "5/5 [==============================] - 0s 12ms/step - loss: 4420842496.0000 - val_loss: 3207390720.0000\n",
            "Epoch 79/100\n",
            "5/5 [==============================] - 0s 16ms/step - loss: 4420823040.0000 - val_loss: 3207371776.0000\n",
            "Epoch 80/100\n",
            "5/5 [==============================] - 0s 15ms/step - loss: 4420802560.0000 - val_loss: 3207353344.0000\n",
            "Epoch 81/100\n",
            "5/5 [==============================] - 0s 12ms/step - loss: 4420782592.0000 - val_loss: 3207334656.0000\n",
            "Epoch 82/100\n",
            "5/5 [==============================] - 0s 11ms/step - loss: 4420762112.0000 - val_loss: 3207316224.0000\n",
            "Epoch 83/100\n",
            "5/5 [==============================] - 0s 11ms/step - loss: 4420742144.0000 - val_loss: 3207297280.0000\n",
            "Epoch 84/100\n",
            "5/5 [==============================] - 0s 16ms/step - loss: 4420721664.0000 - val_loss: 3207278592.0000\n",
            "Epoch 85/100\n",
            "5/5 [==============================] - 0s 12ms/step - loss: 4420701696.0000 - val_loss: 3207260160.0000\n",
            "Epoch 86/100\n",
            "5/5 [==============================] - 0s 11ms/step - loss: 4420681728.0000 - val_loss: 3207241472.0000\n",
            "Epoch 87/100\n",
            "5/5 [==============================] - 0s 13ms/step - loss: 4420661248.0000 - val_loss: 3207223040.0000\n",
            "Epoch 88/100\n",
            "5/5 [==============================] - 0s 11ms/step - loss: 4420641280.0000 - val_loss: 3207203584.0000\n",
            "Epoch 89/100\n",
            "5/5 [==============================] - 0s 12ms/step - loss: 4420620800.0000 - val_loss: 3207185408.0000\n",
            "Epoch 90/100\n",
            "5/5 [==============================] - 0s 11ms/step - loss: 4420600832.0000 - val_loss: 3207166976.0000\n",
            "Epoch 91/100\n",
            "5/5 [==============================] - 0s 11ms/step - loss: 4420580864.0000 - val_loss: 3207148288.0000\n",
            "Epoch 92/100\n",
            "5/5 [==============================] - 0s 16ms/step - loss: 4420560896.0000 - val_loss: 3207129344.0000\n",
            "Epoch 93/100\n",
            "5/5 [==============================] - 0s 12ms/step - loss: 4420540416.0000 - val_loss: 3207111168.0000\n",
            "Epoch 94/100\n",
            "5/5 [==============================] - 0s 11ms/step - loss: 4420519936.0000 - val_loss: 3207092224.0000\n",
            "Epoch 95/100\n",
            "5/5 [==============================] - 0s 15ms/step - loss: 4420500480.0000 - val_loss: 3207074048.0000\n",
            "Epoch 96/100\n",
            "5/5 [==============================] - 0s 15ms/step - loss: 4420480000.0000 - val_loss: 3207055104.0000\n",
            "Epoch 97/100\n",
            "5/5 [==============================] - 0s 11ms/step - loss: 4420459008.0000 - val_loss: 3207036160.0000\n",
            "Epoch 98/100\n",
            "5/5 [==============================] - 0s 11ms/step - loss: 4420439552.0000 - val_loss: 3207017984.0000\n",
            "Epoch 99/100\n",
            "5/5 [==============================] - 0s 11ms/step - loss: 4420419584.0000 - val_loss: 3206999040.0000\n",
            "Epoch 100/100\n",
            "5/5 [==============================] - 0s 10ms/step - loss: 4420399616.0000 - val_loss: 3206980864.0000\n"
          ]
        }
      ]
    },
    {
      "cell_type": "code",
      "source": [
        "# model 학습 곡선\n",
        "plt.plot(hist.history[\"loss\"], label = 'train')\n",
        "plt.plot(hist.history[\"val_loss\"], label = 'valid')\n",
        "plt.legend()\n",
        "plt.show()"
      ],
      "metadata": {
        "colab": {
          "base_uri": "https://localhost:8080/",
          "height": 445
        },
        "id": "5f0_P4j01cXm",
        "outputId": "d6c895f8-bbfa-4239-c165-4c89a725c5f3"
      },
      "execution_count": 29,
      "outputs": [
        {
          "output_type": "display_data",
          "data": {
            "text/plain": [
              "<Figure size 640x480 with 1 Axes>"
            ],
            "image/png": "[encoded data removed]"
          },
          "metadata": {}
        }
      ]
    },
    {
      "cell_type": "code",
      "source": [
        "plot_model(model, show_shapes=True)"
      ],
      "metadata": {
        "colab": {
          "base_uri": "https://localhost:8080/",
          "height": 312
        },
        "id": "FwAgopyR1o3Q",
        "outputId": "b261caed-cb1c-4173-e9f2-c74822f9f2b6"
      },
      "execution_count": 30,
      "outputs": [
        {
          "output_type": "execute_result",
          "data": {
            "image/png": "[encoded data removed]",
            "text/plain": [
              "<IPython.core.display.Image object>"
            ]
          },
          "metadata": {},
          "execution_count": 30
        }
      ]
    },
    {
      "cell_type": "code",
      "source": [],
      "metadata": {
        "id": "1RYhkkC_2nks"
      },
      "execution_count": null,
      "outputs": []
    }
  ]
}
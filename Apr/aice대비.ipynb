{
 "cells": [
  {
   "cell_type": "markdown",
   "metadata": {
    "id": "1k4IYfEJp8tq"
   },
   "source": [
    "## 라이브러리 불러오기"
   ]
  },
  {
   "cell_type": "code",
   "execution_count": 1,
   "metadata": {},
   "outputs": [],
   "source": [
    "import pandas as pd\n",
    "import seaborn as sns\n",
    "import matplotlib.pyplot as plt"
   ]
  },
  {
   "cell_type": "markdown",
   "metadata": {
    "id": "8lqIISjLrhvi"
   },
   "source": [
    "## 데이터 로딩"
   ]
  },
  {
   "cell_type": "code",
   "execution_count": 3,
   "metadata": {},
   "outputs": [],
   "source": [
    "df = pd.read_csv('nav_data.csv', encoding='CP949')"
   ]
  },
  {
   "cell_type": "markdown",
   "metadata": {
    "id": "aiqDKu6urs-K"
   },
   "source": [
    "## 데이터 구성 확인"
   ]
  },
  {
   "cell_type": "code",
   "execution_count": null,
   "metadata": {},
   "outputs": [],
   "source": []
  },
  {
   "cell_type": "markdown",
   "metadata": {
    "id": "NE3AKyUmrxpW"
   },
   "source": [
    "## 결측치 처리"
   ]
  },
  {
   "cell_type": "markdown",
   "metadata": {
    "id": "mX5bmb3YsMy4"
   },
   "source": [
    "## 상관분석"
   ]
  },
  {
   "cell_type": "markdown",
   "metadata": {
    "id": "_P5NZSdzsOgu"
   },
   "source": [
    "## 데이터 시각화"
   ]
  },
  {
   "cell_type": "markdown",
   "metadata": {
    "id": "XOKlfz-Vr1km"
   },
   "source": [
    "## 라벨 인코딩, 원핫 인코딩"
   ]
  },
  {
   "cell_type": "markdown",
   "metadata": {
    "id": "uveU9Ecmr4Sh"
   },
   "source": [
    "## X,Y 데이터 분리"
   ]
  },
  {
   "cell_type": "markdown",
   "metadata": {
    "id": "55LzqFeNr7Hj"
   },
   "source": [
    "## 데이터 정규화 및 표준화"
   ]
  },
  {
   "cell_type": "markdown",
   "metadata": {
    "id": "o_EJ-tQfr-Jz"
   },
   "source": [
    "## 머신러닝 (예측, 분류)"
   ]
  },
  {
   "cell_type": "markdown",
   "metadata": {
    "id": "V5cI8s9csEKy"
   },
   "source": [
    "## 딥러닝"
   ]
  },
  {
   "cell_type": "markdown",
   "metadata": {
    "id": "tM5up_C1sF1J"
   },
   "source": [
    "## 모델 성능평가 및 그래프 출력"
   ]
  },
  {
   "cell_type": "code",
   "execution_count": null,
   "metadata": {
    "id": "CAJYrkADsJJP"
   },
   "outputs": [],
   "source": []
  }
 ],
 "metadata": {
  "colab": {
   "provenance": []
  },
  "gpuClass": "standard",
  "kernelspec": {
   "display_name": "Python 3 (ipykernel)",
   "language": "python",
   "name": "python3"
  },
  "language_info": {
   "codemirror_mode": {
    "name": "ipython",
    "version": 3
   },
   "file_extension": ".py",
   "mimetype": "text/x-python",
   "name": "python",
   "nbconvert_exporter": "python",
   "pygments_lexer": "ipython3",
   "version": "3.9.13"
  }
 },
 "nbformat": 4,
 "nbformat_minor": 4
}

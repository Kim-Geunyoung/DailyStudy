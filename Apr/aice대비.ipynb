{
  "cells": [
    {
      "cell_type": "markdown",
      "metadata": {
        "id": "1k4IYfEJp8tq"
      },
      "source": [
        "## 라이브러리 불러오기"
      ]
    },
    {
      "cell_type": "code",
      "execution_count": null,
      "metadata": {
        "id": "xEAaBHRWc3Ly"
      },
      "outputs": [],
      "source": [
        "# 라이브러리 불러오기\n",
        "import numpy as np\n",
        "import pandas as pd\n",
        "import matplotlib.pyplot as plt\n",
        "import seaborn as sns"
      ]
    },
    {
      "cell_type": "markdown",
      "metadata": {
        "id": "8lqIISjLrhvi"
      },
      "source": [
        "## 데이터 로딩"
      ]
    },
    {
      "cell_type": "code",
      "execution_count": null,
      "metadata": {
        "id": "-CK0MSoGc5pf"
      },
      "outputs": [],
      "source": [
        "df = sns.load_dataset('taxis')\n",
        "# df = pd.read_json('data.json')\n",
        "# df = pd.read_csv('data.csv')"
      ]
    },
    {
      "cell_type": "markdown",
      "metadata": {
        "id": "aiqDKu6urs-K"
      },
      "source": [
        "## 데이터 구성 확인"
      ]
    },
    {
      "cell_type": "code",
      "execution_count": null,
      "metadata": {
        "id": "-cGF9-WhdbiH"
      },
      "outputs": [],
      "source": [
        "# 상위 데이터 5줄 확인\n",
        "df.head()"
      ]
    },
    {
      "cell_type": "code",
      "execution_count": null,
      "metadata": {
        "id": "HaR9vqufdb57"
      },
      "outputs": [],
      "source": [
        "# 하위 데이터 5줄 확인\n",
        "df.tail()"
      ]
    },
    {
      "cell_type": "code",
      "execution_count": null,
      "metadata": {
        "id": "cNdiTzdadlaA"
      },
      "outputs": [],
      "source": [
        "# 데이터프레임 정보\n",
        "df.info()"
      ]
    },
    {
      "cell_type": "code",
      "execution_count": null,
      "metadata": {
        "id": "aGNkAg3VdsdP"
      },
      "outputs": [],
      "source": [
        "# 데이터프레임 인덱스 확인\n",
        "df.index.values"
      ]
    },
    {
      "cell_type": "code",
      "execution_count": null,
      "metadata": {
        "id": "l5olPGZyd_9N"
      },
      "outputs": [],
      "source": [
        "# 데이터프레임 컬럼 확인\n",
        "df.columns"
      ]
    },
    {
      "cell_type": "code",
      "execution_count": null,
      "metadata": {
        "id": "jYa_79ioeC13"
      },
      "outputs": [],
      "source": [
        "# 데이터프레임 값(value) 확인\n",
        "df.values"
      ]
    },
    {
      "cell_type": "code",
      "execution_count": null,
      "metadata": {
        "id": "HfN8llOVeGrb"
      },
      "outputs": [],
      "source": [
        "# 데이터프레임 기초통계량\n",
        "df.describe()"
      ]
    },
    {
      "cell_type": "code",
      "execution_count": null,
      "metadata": {
        "id": "vBqQv2ubeKXu"
      },
      "outputs": [],
      "source": [
        "# 데이터프레임 결측치 확인\n",
        "df.isna().sum()"
      ]
    },
    {
      "cell_type": "code",
      "execution_count": null,
      "metadata": {
        "id": "UmntAgREeWcZ"
      },
      "outputs": [],
      "source": [
        "# a라는 컬럼 데이터 확인하기\n",
        "df['a']"
      ]
    },
    {
      "cell_type": "code",
      "execution_count": null,
      "metadata": {
        "id": "vCT2eASveajc"
      },
      "outputs": [],
      "source": [
        "# a컬럼 데이터별 건수를 확인\n",
        "df['a'].value_counts()"
      ]
    },
    {
      "cell_type": "code",
      "execution_count": null,
      "metadata": {
        "id": "UUcw6hWYendp"
      },
      "outputs": [],
      "source": [
        "# a컬럼 데이터별 건수 비율 확인\n",
        "df['a'].value_counts(normalize=True)"
      ]
    },
    {
      "cell_type": "code",
      "execution_count": null,
      "metadata": {
        "id": "by8Dg3gmehME"
      },
      "outputs": [],
      "source": [
        "# 모든 컬럼 데이터 건수 확인\n",
        "for i in df.columns:\n",
        "    print(df[i].value_counts())\n",
        "    print('='*60)\n",
        "# [df[k].value_counts() for k in df]"
      ]
    },
    {
      "cell_type": "code",
      "execution_count": null,
      "metadata": {
        "id": "CGGT94VsfdGv"
      },
      "outputs": [],
      "source": [
        "# 모든 컬럼 데이터 건수 비율 확인\n",
        "for i in df.columns:\n",
        "    print(df[i].value_counts(normalize=True))\n",
        "    print('='*60)\n",
        "# [df[k].value_counts() for k in df]"
      ]
    },
    {
      "cell_type": "markdown",
      "metadata": {
        "id": "NE3AKyUmrxpW"
      },
      "source": [
        "## 결측치 처리"
      ]
    },
    {
      "cell_type": "code",
      "execution_count": null,
      "metadata": {
        "id": "3bToGhrjjFtd"
      },
      "outputs": [],
      "source": [
        "# 결측치 퍼센트\n",
        "df.isnull().sum() /len(df) *100"
      ]
    },
    {
      "cell_type": "markdown",
      "metadata": {
        "id": "d9CJOoMti286"
      },
      "source": [
        "### 불필요한 변수 제거\n",
        "\n",
        "- axis=0는 행, axis=1은 열을 의미함"
      ]
    },
    {
      "cell_type": "markdown",
      "metadata": {
        "id": "GdWUzdM_jSVI"
      },
      "source": [
        "### NaN 삭제\n",
        "\n",
        "- NaN 값이 포함된 행이나 열이 중요하지 않다면 해당 행이나 열을 제거\n",
        "- NaN 값이 너무 많이 포함된 경우, 적절히 채울 수 없다면 해당 행과 열을 제거"
      ]
    },
    {
      "cell_type": "markdown",
      "metadata": {
        "id": "Fi98c5UKjjG6"
      },
      "source": [
        "#### 모든 행 제거"
      ]
    },
    {
      "cell_type": "code",
      "execution_count": null,
      "metadata": {
        "id": "DBKtn_eQjoyu"
      },
      "outputs": [],
      "source": [
        "# NaN이 포함된 모든 행(axis=0) 제거\n",
        "df.dropna(axis=0, inplace=True)"
      ]
    },
    {
      "cell_type": "code",
      "execution_count": null,
      "metadata": {
        "id": "8l-Dcb-6jsnW"
      },
      "outputs": [],
      "source": [
        "# Age 변수에 NaN이 포함된 행 제거\n",
        "df.dropna(subset=['변수명명'], axis=0, inplace=True)"
      ]
    },
    {
      "cell_type": "markdown",
      "metadata": {
        "id": "bsoQYNDukBU4"
      },
      "source": [
        "#### 변수 제거(열 제거)\n",
        "NaN 값이 포함된 변수가 그리 중요하지 않거나, NaN 값이 너무 많다면 해당 변수를 제거"
      ]
    },
    {
      "cell_type": "code",
      "execution_count": null,
      "metadata": {
        "id": "l1WHLbHakFec"
      },
      "outputs": [],
      "source": [
        "# NaN 열이 포함된 모든 변수(axis=1) 제거\n",
        "df.dropna(axis=1, inplace=True)"
      ]
    },
    {
      "cell_type": "markdown",
      "metadata": {
        "id": "mX5bmb3YsMy4"
      },
      "source": [
        "## 상관분석"
      ]
    },
    {
      "cell_type": "code",
      "execution_count": null,
      "metadata": {
        "id": "orsx1lmLj5wE"
      },
      "outputs": [],
      "source": [
        "df.corr()"
      ]
    },
    {
      "cell_type": "markdown",
      "metadata": {
        "id": "_P5NZSdzsOgu"
      },
      "source": [
        "## 데이터 시각화"
      ]
    },
    {
      "cell_type": "markdown",
      "metadata": {
        "id": "XOKlfz-Vr1km"
      },
      "source": [
        "## 라벨 인코딩, 원핫 인코딩"
      ]
    },
    {
      "cell_type": "markdown",
      "metadata": {
        "id": "uveU9Ecmr4Sh"
      },
      "source": [
        "## X,Y 데이터 분리"
      ]
    },
    {
      "cell_type": "markdown",
      "metadata": {
        "id": "55LzqFeNr7Hj"
      },
      "source": [
        "## 데이터 정규화 및 표준화"
      ]
    },
    {
      "cell_type": "markdown",
      "metadata": {
        "id": "o_EJ-tQfr-Jz"
      },
      "source": [
        "## 머신러닝 (예측, 분류)"
      ]
    },
    {
      "cell_type": "markdown",
      "metadata": {
        "id": "V5cI8s9csEKy"
      },
      "source": [
        "## 딥러닝"
      ]
    },
    {
      "cell_type": "code",
      "execution_count": null,
      "metadata": {},
      "outputs": [],
      "source": [
        "# Sequential API 방식\n",
        "# 1번 청소 : 이미 만들어진 모델이 있다면 그 모델을 없애줘\n",
        "keras.backend.clear_session()\n",
        "\n",
        "# 2번 모델 선언(모델 발판 생성)\n",
        "model = keras.models.Sequential()\n",
        "\n",
        "# 3번 모델 블록 조립(모델 레이어 쌓기)\n",
        "model.add( keras.layers.Input(shape=(1,)) )\n",
        "model.add( keras.layers.Dense(1) )\n",
        "\n",
        "## 오리지널 Sequential API\n",
        "# model.add( keras.layers.Dense(1, input_shape=(1,)) )\n",
        "\n",
        "# 4번 컴파일 \n",
        "model.compile(loss='mse', optimizer='adam')"
      ]
    },
    {
      "cell_type": "markdown",
      "metadata": {
        "id": "tM5up_C1sF1J"
      },
      "source": [
        "## 모델 성능평가 및 그래프 출력"
      ]
    },
    {
      "cell_type": "code",
      "execution_count": null,
      "metadata": {
        "id": "CAJYrkADsJJP"
      },
      "outputs": [],
      "source": [
        "import matplotlib.pyplot as plt\n",
        "hep = hist_s.epoch\n",
        "train_acc = hist_s.history['accuracy']\n",
        "val_acc = hist_s.history['val_accuracy']\n",
        "\n",
        "plt.figure(figsize=(10,8))\n",
        "plt.plot(hep, train_acc, label='Train')\n",
        "plt.plot(hep, val_acc, label='Validation')\n",
        "plt.xlabel(\"Epochs\")\n",
        "plt.ylabel(\"Accuracy\")\n",
        "plt.legend()\n",
        "plt.show()"
      ]
    }
  ],
  "metadata": {
    "colab": {
      "provenance": []
    },
    "gpuClass": "standard",
    "kernelspec": {
      "display_name": "Python 3",
      "name": "python3"
    },
    "language_info": {
      "name": "python"
    }
  },
  "nbformat": 4,
  "nbformat_minor": 0
}

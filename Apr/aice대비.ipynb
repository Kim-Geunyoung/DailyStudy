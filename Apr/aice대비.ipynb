{
  "nbformat": 4,
  "nbformat_minor": 0,
  "metadata": {
    "colab": {
      "provenance": []
    },
    "kernelspec": {
      "name": "python3",
      "display_name": "Python 3"
    },
    "language_info": {
      "name": "python"
    },
    "gpuClass": "standard"
  },
  "cells": [
    {
      "cell_type": "markdown",
      "source": [
        "## 라이브러리 불러오기"
      ],
      "metadata": {
        "id": "1k4IYfEJp8tq"
      }
    },
    {
      "cell_type": "code",
      "source": [
        "# 라이브러리 불러오기\n",
        "import numpy as np\n",
        "import pandas as pd\n",
        "import matplotlib.pyplot as plt\n",
        "import seaborn as sns"
      ],
      "metadata": {
        "id": "xEAaBHRWc3Ly"
      },
      "execution_count": 1,
      "outputs": []
    },
    {
      "cell_type": "markdown",
      "source": [
        "## 데이터 로딩"
      ],
      "metadata": {
        "id": "8lqIISjLrhvi"
      }
    },
    {
      "cell_type": "code",
      "source": [
        "df = sns.load_dataset('taxis')\n",
        "# df = pd.read_json('data.json')\n",
        "# df = pd.read_csv('data.csv')"
      ],
      "metadata": {
        "id": "-CK0MSoGc5pf"
      },
      "execution_count": 2,
      "outputs": []
    },
    {
      "cell_type": "markdown",
      "source": [
        "## 데이터 구성 확인"
      ],
      "metadata": {
        "id": "aiqDKu6urs-K"
      }
    },
    {
      "cell_type": "code",
      "source": [
        "# 상위 데이터 5줄 확인\n",
        "df.head()"
      ],
      "metadata": {
        "id": "-cGF9-WhdbiH"
      },
      "execution_count": null,
      "outputs": []
    },
    {
      "cell_type": "code",
      "source": [
        "# 하위 데이터 5줄 확인\n",
        "df.tail()"
      ],
      "metadata": {
        "id": "HaR9vqufdb57"
      },
      "execution_count": null,
      "outputs": []
    },
    {
      "cell_type": "code",
      "source": [
        "# 데이터프레임 정보\n",
        "df.info()"
      ],
      "metadata": {
        "id": "cNdiTzdadlaA"
      },
      "execution_count": null,
      "outputs": []
    },
    {
      "cell_type": "code",
      "source": [
        "# 데이터프레임 인덱스 확인\n",
        "df.index.values"
      ],
      "metadata": {
        "id": "aGNkAg3VdsdP"
      },
      "execution_count": null,
      "outputs": []
    },
    {
      "cell_type": "code",
      "source": [
        "# 데이터프레임 컬럼 확인\n",
        "df.columns"
      ],
      "metadata": {
        "id": "l5olPGZyd_9N"
      },
      "execution_count": null,
      "outputs": []
    },
    {
      "cell_type": "code",
      "source": [
        "# 데이터프레임 값(value) 확인\n",
        "df.values"
      ],
      "metadata": {
        "id": "jYa_79ioeC13"
      },
      "execution_count": null,
      "outputs": []
    },
    {
      "cell_type": "code",
      "source": [
        "# 데이터프레임 기초통계량\n",
        "df.describe()"
      ],
      "metadata": {
        "id": "HfN8llOVeGrb"
      },
      "execution_count": null,
      "outputs": []
    },
    {
      "cell_type": "code",
      "source": [
        "# 데이터프레임 결측치 확인\n",
        "df.isna().sum()"
      ],
      "metadata": {
        "id": "vBqQv2ubeKXu"
      },
      "execution_count": null,
      "outputs": []
    },
    {
      "cell_type": "code",
      "source": [
        "# a라는 컬럼 데이터 확인하기\n",
        "df['a']"
      ],
      "metadata": {
        "id": "UmntAgREeWcZ"
      },
      "execution_count": null,
      "outputs": []
    },
    {
      "cell_type": "code",
      "source": [
        "# a컬럼 데이터별 건수를 확인\n",
        "df['a'].value_counts()"
      ],
      "metadata": {
        "id": "vCT2eASveajc"
      },
      "execution_count": null,
      "outputs": []
    },
    {
      "cell_type": "code",
      "source": [
        "# a컬럼 데이터별 건수 비율 확인\n",
        "df['a'].value_counts(normalize=True)"
      ],
      "metadata": {
        "id": "UUcw6hWYendp"
      },
      "execution_count": null,
      "outputs": []
    },
    {
      "cell_type": "code",
      "source": [
        "# 모든 컬럼 데이터 건수 확인\n",
        "for i in df.columns:\n",
        "    print(df[i].value_counts())\n",
        "    print('='*60)\n",
        "# [df[k].value_counts() for k in df]"
      ],
      "metadata": {
        "id": "by8Dg3gmehME"
      },
      "execution_count": null,
      "outputs": []
    },
    {
      "cell_type": "code",
      "source": [
        "# 모든 컬럼 데이터 건수 비율 확인\n",
        "for i in df.columns:\n",
        "    print(df[i].value_counts(normalize=True))\n",
        "    print('='*60)\n",
        "# [df[k].value_counts() for k in df]"
      ],
      "metadata": {
        "id": "CGGT94VsfdGv"
      },
      "execution_count": null,
      "outputs": []
    },
    {
      "cell_type": "markdown",
      "source": [
        "## 결측치 처리"
      ],
      "metadata": {
        "id": "NE3AKyUmrxpW"
      }
    },
    {
      "cell_type": "markdown",
      "source": [
        "## 상관분석"
      ],
      "metadata": {
        "id": "mX5bmb3YsMy4"
      }
    },
    {
      "cell_type": "markdown",
      "source": [
        "## 데이터 시각화"
      ],
      "metadata": {
        "id": "_P5NZSdzsOgu"
      }
    },
    {
      "cell_type": "markdown",
      "source": [
        "## 라벨 인코딩, 원핫 인코딩"
      ],
      "metadata": {
        "id": "XOKlfz-Vr1km"
      }
    },
    {
      "cell_type": "markdown",
      "source": [
        "## X,Y 데이터 분리"
      ],
      "metadata": {
        "id": "uveU9Ecmr4Sh"
      }
    },
    {
      "cell_type": "markdown",
      "source": [
        "## 데이터 정규화 및 표준화"
      ],
      "metadata": {
        "id": "55LzqFeNr7Hj"
      }
    },
    {
      "cell_type": "markdown",
      "source": [
        "## 머신러닝 (예측, 분류)"
      ],
      "metadata": {
        "id": "o_EJ-tQfr-Jz"
      }
    },
    {
      "cell_type": "markdown",
      "source": [
        "## 딥러닝"
      ],
      "metadata": {
        "id": "V5cI8s9csEKy"
      }
    },
    {
      "cell_type": "markdown",
      "source": [
        "## 모델 성능평가 및 그래프 출력"
      ],
      "metadata": {
        "id": "tM5up_C1sF1J"
      }
    },
    {
      "cell_type": "code",
      "source": [],
      "metadata": {
        "id": "CAJYrkADsJJP"
      },
      "execution_count": null,
      "outputs": []
    }
  ]
}
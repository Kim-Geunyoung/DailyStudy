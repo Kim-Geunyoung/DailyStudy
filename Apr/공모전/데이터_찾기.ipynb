{
  "nbformat": 4,
  "nbformat_minor": 0,
  "metadata": {
    "colab": {
      "provenance": [],
      "toc_visible": true
    },
    "kernelspec": {
      "name": "python3",
      "display_name": "Python 3"
    },
    "language_info": {
      "name": "python"
    }
  },
  "cells": [
    {
      "cell_type": "code",
      "execution_count": null,
      "metadata": {
        "id": "lRshxKpBW_Fk"
      },
      "outputs": [],
      "source": [
        "import pandas as pd\n",
        "import numpy as np\n",
        "import matplotlib.pyplot as plt\n",
        "import seaborn"
      ]
    },
    {
      "cell_type": "markdown",
      "source": [
        "## 서울시 민원 데이터 https://data.seoul.go.kr/dataList/89/S/2/datasetView.do"
      ],
      "metadata": {
        "id": "GAFfepq_YuQG"
      }
    },
    {
      "cell_type": "code",
      "source": [
        "df = pd.read_csv('data.csv')"
      ],
      "metadata": {
        "id": "JAyyyrJ6XVNg"
      },
      "execution_count": null,
      "outputs": []
    },
    {
      "cell_type": "code",
      "source": [
        "df.head(3)"
      ],
      "metadata": {
        "colab": {
          "base_uri": "https://localhost:8080/",
          "height": 271
        },
        "id": "8ZwCrn55XYqR",
        "outputId": "dd53fbde-412d-429a-b743-058433ece5ab"
      },
      "execution_count": null,
      "outputs": [
        {
          "output_type": "execute_result",
          "data": {
            "text/plain": [
              "  1999 1999.1 1999.2 1999.3  1999.4  1999.5  1999.6  1999.7 1999.8  1999.9  \\\n",
              "0   합계     합계     합계     합계      합계      합계      합계      합계     합계      합계   \n",
              "1   소계   민원분야   민원분야   민원분야    민원분야    민원분야    민원분야    민원분야   민원분야    민원분야   \n",
              "2   소계     소계   건설분야   교통분야  도시계획분야  문화관광분야  보건복지분야  산업경제분야   소방분야  주택건축분야   \n",
              "\n",
              "   ... 2013 2013.1 2013.2 2013.3 2013.4 2013.5 2013.6  2013.7  2013.8 2013.9  \n",
              "0  ...   합계     합계     합계     합계     합계     합계     합계      합계      합계     합계  \n",
              "1  ...   소계     소계   민원분야   민원분야   민원분야   민원분야   민원분야    민원분야    민원분야   민원분야  \n",
              "2  ...   소계     소계     소계     소계   건설분야   건설분야   교통분야  문화관광분야  산업경제분야   환경분야  \n",
              "\n",
              "[3 rows x 257 columns]"
            ],
            "text/html": [
              "\n",
              "  <div id=\"df-66607655-e980-4644-84d9-9b719d8fa1d0\">\n",
              "    <div class=\"colab-df-container\">\n",
              "      <div>\n",
              "<style scoped>\n",
              "    .dataframe tbody tr th:only-of-type {\n",
              "        vertical-align: middle;\n",
              "    }\n",
              "\n",
              "    .dataframe tbody tr th {\n",
              "        vertical-align: top;\n",
              "    }\n",
              "\n",
              "    .dataframe thead th {\n",
              "        text-align: right;\n",
              "    }\n",
              "</style>\n",
              "<table border=\"1\" class=\"dataframe\">\n",
              "  <thead>\n",
              "    <tr style=\"text-align: right;\">\n",
              "      <th></th>\n",
              "      <th>1999</th>\n",
              "      <th>1999.1</th>\n",
              "      <th>1999.2</th>\n",
              "      <th>1999.3</th>\n",
              "      <th>1999.4</th>\n",
              "      <th>1999.5</th>\n",
              "      <th>1999.6</th>\n",
              "      <th>1999.7</th>\n",
              "      <th>1999.8</th>\n",
              "      <th>1999.9</th>\n",
              "      <th>...</th>\n",
              "      <th>2013</th>\n",
              "      <th>2013.1</th>\n",
              "      <th>2013.2</th>\n",
              "      <th>2013.3</th>\n",
              "      <th>2013.4</th>\n",
              "      <th>2013.5</th>\n",
              "      <th>2013.6</th>\n",
              "      <th>2013.7</th>\n",
              "      <th>2013.8</th>\n",
              "      <th>2013.9</th>\n",
              "    </tr>\n",
              "  </thead>\n",
              "  <tbody>\n",
              "    <tr>\n",
              "      <th>0</th>\n",
              "      <td>합계</td>\n",
              "      <td>합계</td>\n",
              "      <td>합계</td>\n",
              "      <td>합계</td>\n",
              "      <td>합계</td>\n",
              "      <td>합계</td>\n",
              "      <td>합계</td>\n",
              "      <td>합계</td>\n",
              "      <td>합계</td>\n",
              "      <td>합계</td>\n",
              "      <td>...</td>\n",
              "      <td>합계</td>\n",
              "      <td>합계</td>\n",
              "      <td>합계</td>\n",
              "      <td>합계</td>\n",
              "      <td>합계</td>\n",
              "      <td>합계</td>\n",
              "      <td>합계</td>\n",
              "      <td>합계</td>\n",
              "      <td>합계</td>\n",
              "      <td>합계</td>\n",
              "    </tr>\n",
              "    <tr>\n",
              "      <th>1</th>\n",
              "      <td>소계</td>\n",
              "      <td>민원분야</td>\n",
              "      <td>민원분야</td>\n",
              "      <td>민원분야</td>\n",
              "      <td>민원분야</td>\n",
              "      <td>민원분야</td>\n",
              "      <td>민원분야</td>\n",
              "      <td>민원분야</td>\n",
              "      <td>민원분야</td>\n",
              "      <td>민원분야</td>\n",
              "      <td>...</td>\n",
              "      <td>소계</td>\n",
              "      <td>소계</td>\n",
              "      <td>민원분야</td>\n",
              "      <td>민원분야</td>\n",
              "      <td>민원분야</td>\n",
              "      <td>민원분야</td>\n",
              "      <td>민원분야</td>\n",
              "      <td>민원분야</td>\n",
              "      <td>민원분야</td>\n",
              "      <td>민원분야</td>\n",
              "    </tr>\n",
              "    <tr>\n",
              "      <th>2</th>\n",
              "      <td>소계</td>\n",
              "      <td>소계</td>\n",
              "      <td>건설분야</td>\n",
              "      <td>교통분야</td>\n",
              "      <td>도시계획분야</td>\n",
              "      <td>문화관광분야</td>\n",
              "      <td>보건복지분야</td>\n",
              "      <td>산업경제분야</td>\n",
              "      <td>소방분야</td>\n",
              "      <td>주택건축분야</td>\n",
              "      <td>...</td>\n",
              "      <td>소계</td>\n",
              "      <td>소계</td>\n",
              "      <td>소계</td>\n",
              "      <td>소계</td>\n",
              "      <td>건설분야</td>\n",
              "      <td>건설분야</td>\n",
              "      <td>교통분야</td>\n",
              "      <td>문화관광분야</td>\n",
              "      <td>산업경제분야</td>\n",
              "      <td>환경분야</td>\n",
              "    </tr>\n",
              "  </tbody>\n",
              "</table>\n",
              "<p>3 rows × 257 columns</p>\n",
              "</div>\n",
              "      <button class=\"colab-df-convert\" onclick=\"convertToInteractive('df-66607655-e980-4644-84d9-9b719d8fa1d0')\"\n",
              "              title=\"Convert this dataframe to an interactive table.\"\n",
              "              style=\"display:none;\">\n",
              "        \n",
              "  <svg xmlns=\"http://www.w3.org/2000/svg\" height=\"24px\"viewBox=\"0 0 24 24\"\n",
              "       width=\"24px\">\n",
              "    <path d=\"M0 0h24v24H0V0z\" fill=\"none\"/>\n",
              "    <path d=\"M18.56 5.44l.94 2.06.94-2.06 2.06-.94-2.06-.94-.94-2.06-.94 2.06-2.06.94zm-11 1L8.5 8.5l.94-2.06 2.06-.94-2.06-.94L8.5 2.5l-.94 2.06-2.06.94zm10 10l.94 2.06.94-2.06 2.06-.94-2.06-.94-.94-2.06-.94 2.06-2.06.94z\"/><path d=\"M17.41 7.96l-1.37-1.37c-.4-.4-.92-.59-1.43-.59-.52 0-1.04.2-1.43.59L10.3 9.45l-7.72 7.72c-.78.78-.78 2.05 0 2.83L4 21.41c.39.39.9.59 1.41.59.51 0 1.02-.2 1.41-.59l7.78-7.78 2.81-2.81c.8-.78.8-2.07 0-2.86zM5.41 20L4 18.59l7.72-7.72 1.47 1.35L5.41 20z\"/>\n",
              "  </svg>\n",
              "      </button>\n",
              "      \n",
              "  <style>\n",
              "    .colab-df-container {\n",
              "      display:flex;\n",
              "      flex-wrap:wrap;\n",
              "      gap: 12px;\n",
              "    }\n",
              "\n",
              "    .colab-df-convert {\n",
              "      background-color: #E8F0FE;\n",
              "      border: none;\n",
              "      border-radius: 50%;\n",
              "      cursor: pointer;\n",
              "      display: none;\n",
              "      fill: #1967D2;\n",
              "      height: 32px;\n",
              "      padding: 0 0 0 0;\n",
              "      width: 32px;\n",
              "    }\n",
              "\n",
              "    .colab-df-convert:hover {\n",
              "      background-color: #E2EBFA;\n",
              "      box-shadow: 0px 1px 2px rgba(60, 64, 67, 0.3), 0px 1px 3px 1px rgba(60, 64, 67, 0.15);\n",
              "      fill: #174EA6;\n",
              "    }\n",
              "\n",
              "    [theme=dark] .colab-df-convert {\n",
              "      background-color: #3B4455;\n",
              "      fill: #D2E3FC;\n",
              "    }\n",
              "\n",
              "    [theme=dark] .colab-df-convert:hover {\n",
              "      background-color: #434B5C;\n",
              "      box-shadow: 0px 1px 3px 1px rgba(0, 0, 0, 0.15);\n",
              "      filter: drop-shadow(0px 1px 2px rgba(0, 0, 0, 0.3));\n",
              "      fill: #FFFFFF;\n",
              "    }\n",
              "  </style>\n",
              "\n",
              "      <script>\n",
              "        const buttonEl =\n",
              "          document.querySelector('#df-66607655-e980-4644-84d9-9b719d8fa1d0 button.colab-df-convert');\n",
              "        buttonEl.style.display =\n",
              "          google.colab.kernel.accessAllowed ? 'block' : 'none';\n",
              "\n",
              "        async function convertToInteractive(key) {\n",
              "          const element = document.querySelector('#df-66607655-e980-4644-84d9-9b719d8fa1d0');\n",
              "          const dataTable =\n",
              "            await google.colab.kernel.invokeFunction('convertToInteractive',\n",
              "                                                     [key], {});\n",
              "          if (!dataTable) return;\n",
              "\n",
              "          const docLinkHtml = 'Like what you see? Visit the ' +\n",
              "            '<a target=\"_blank\" href=https://colab.research.google.com/notebooks/data_table.ipynb>data table notebook</a>'\n",
              "            + ' to learn more about interactive tables.';\n",
              "          element.innerHTML = '';\n",
              "          dataTable['output_type'] = 'display_data';\n",
              "          await google.colab.output.renderOutput(dataTable, element);\n",
              "          const docLink = document.createElement('div');\n",
              "          docLink.innerHTML = docLinkHtml;\n",
              "          element.appendChild(docLink);\n",
              "        }\n",
              "      </script>\n",
              "    </div>\n",
              "  </div>\n",
              "  "
            ]
          },
          "metadata": {},
          "execution_count": 4
        }
      ]
    },
    {
      "cell_type": "code",
      "source": [
        "df.shape"
      ],
      "metadata": {
        "colab": {
          "base_uri": "https://localhost:8080/"
        },
        "id": "Uc8e74nUXs31",
        "outputId": "f29a60d1-b516-4558-8572-3a61e1b6953a"
      },
      "execution_count": null,
      "outputs": [
        {
          "output_type": "execute_result",
          "data": {
            "text/plain": [
              "(5, 257)"
            ]
          },
          "metadata": {},
          "execution_count": 6
        }
      ]
    },
    {
      "cell_type": "code",
      "source": [
        "df.columns[:30]"
      ],
      "metadata": {
        "colab": {
          "base_uri": "https://localhost:8080/"
        },
        "id": "urfsyqLSYJvs",
        "outputId": "85586529-3ba1-4fa7-b470-2ca34248a3ce"
      },
      "execution_count": null,
      "outputs": [
        {
          "output_type": "execute_result",
          "data": {
            "text/plain": [
              "Index(['1999', '1999.1', '1999.2', '1999.3', '1999.4', '1999.5', '1999.6',\n",
              "       '1999.7', '1999.8', '1999.9', '1999.10', '1999.11', '2000', '2000.1',\n",
              "       '2000.2', '2000.3', '2000.4', '2000.5', '2000.6', '2000.7', '2000.8',\n",
              "       '2000.9', '2000.10', '2000.11', '2001', '2001.1', '2001.2', '2001.3',\n",
              "       '2001.4', '2001.5'],\n",
              "      dtype='object')"
            ]
          },
          "metadata": {},
          "execution_count": 14
        }
      ]
    },
    {
      "cell_type": "code",
      "source": [
        "print(df.value_counts())"
      ],
      "metadata": {
        "colab": {
          "base_uri": "https://localhost:8080/"
        },
        "id": "jAM54sVFX0m7",
        "outputId": "5e56a81e-c5d8-482d-f2c2-5564ba29d888"
      },
      "execution_count": null,
      "outputs": [
        {
          "output_type": "stream",
          "name": "stdout",
          "text": [
            "1999   1999.1  1999.2  1999.3  1999.4  1999.5  1999.6  1999.7  1999.8  1999.9  1999.10  1999.11  2000   2000.1  2000.2  2000.3  2000.4  2000.5  2000.6  2000.7  2000.8  2000.9  2000.10  2000.11  2001   2001.1  2001.2  2001.3  2001.4  2001.5  2001.6  2001.7  2001.8  2001.9  2001.10  2001.11  2002   2002.1  2002.2  2002.3  2002.4  2002.5  2002.6  2002.7  2002.8  2002.9  2002.10  2002.11  2003   2003.1  2003.2  2003.3  2003.4  2003.5  2003.6  2003.7  2003.8  2003.9  2003.10  2003.11  2003.12  2004    2004.1  2004.2  2004.3  2004.4  2004.5  2004.6  2004.7  2004.8  2004.9  2004.10  2004.11  2004.12  2005    2005.1  2005.2  2005.3  2005.4  2005.5  2005.6  2005.7  2005.8  2005.9  2005.10  2005.11  2005.12  2006    2006.1  2006.2  2006.3  2006.4  2006.5  2006.6  2006.7  2006.8  2006.9  2006.10  2006.11  2006.12  2006.13  2006.14  2007  2007.1  2007.2  2007.3  2007.4  2007.5  2007.6  2007.7  2007.8  2007.9  2007.10  2007.11  2007.12  2007.13  2007.14  2007.15  2007.16  2007.17  2007.18  2007.19  2007.20  2007.21  2007.22  2007.23  2007.24  2007.25  2007.26  2007.27  2007.28  2007.29  2008  2008.1  2008.2  2008.3  2008.4  2008.5  2008.6  2008.7  2008.8  2008.9  2008.10  2008.11  2008.12  2008.13  2008.14  2008.15  2008.16  2008.17  2008.18  2008.19  2008.20  2008.21  2008.22  2008.23  2008.24  2008.25  2008.26  2008.27  2009  2009.1  2009.2  2009.3  2009.4  2009.5  2009.6  2009.7  2009.8  2009.9  2009.10  2009.11  2009.12  2009.13  2009.14  2009.15  2009.16  2009.17  2009.18  2009.19  2009.20  2009.21  2009.22  2009.23  2009.24  2009.25  2009.26  2009.27  2010  2010.1  2010.2  2010.3  2010.4  2010.5  2010.6  2010.7  2010.8  2010.9  2010.10  2010.11  2010.12  2010.13  2010.14  2010.15  2010.16  2010.17  2010.18  2010.19  2010.20  2010.21  2010.22  2010.23  2010.24  2010.25  2010.26  2010.27  2011  2011.1  2011.2  2011.3  2011.4  2011.5  2011.6  2011.7  2011.8  2011.9  2011.10  2011.11  2011.12  2011.13  2011.14  2011.15  2012  2012.1  2012.2  2012.3  2012.4  2012.5  2012.6  2012.7  2012.8  2012.9  2012.10  2012.11  2012.12  2012.13  2012.14  2013  2013.1  2013.2  2013.3  2013.4  2013.5  2013.6  2013.7  2013.8  2013.9\n",
            "12426  12426   844     209     506     108     4424    68      1521    3805    183      758      47158  47158   8764    14264   629     1255    2336    3281    1999    10616   3186     828      63578  63578   11754   14610   795     2922    1856    3456    2759    20640   4047     739      69087  69087   9213    16457   669     3438    1785    3622    4621    23753   5008     521      63139  62689   10034   16064   1120    3714    2204    3346    5596    14259   5884     468      450      100543  99271   15817   8861    10524   3585    6179    11930   10261   25555   6118     441      1272     103254  101830  16890   9664    10726   3101    8052    12708   9679    25404   5017     589      1424     129709  128407  16644   10267   13430   3197    7911    11758   19395   26748   6846     597      8137     3477     1302     937   446000  775     442326  93      66853   67      48262   72      60234   49       12604    102      22543    81       24193    61       98960    127      72125    88       11950    12       2551     11       11344    12       10707    162      3674     719   296326  564     292971  84      58654   69      40863   72      60868   45       12070    77       15255    26       8597     60       63505    77       13096    30       2866     12       2814     12       14383    155      3355     612   198633  477     195346  84      50245   55      23893   67      32733   30       3353     61       10342    25       8468     60       54375    48       773      23       2235     12       1372     12       7557     135      3287     90    19089   88      18922   49      18344   4       291     13      158     6        20       1        9        1        1        3        34       6        10       1        4        3        50       1        1        2        167      10    776     10      776     4       747     1       2       1       4       2        4        1        1        1        18       10    201     10      201     4       194     1       2       1       2       1        1        1        1        3        6     75      6       75      1       75      1       2       1       1         1\n",
            "소계     민원분야    민원분야    민원분야    민원분야    민원분야    민원분야    민원분야    민원분야    민원분야    민원분야     민원분야     소계     민원분야    민원분야    민원분야    민원분야    민원분야    민원분야    민원분야    민원분야    민원분야    민원분야     민원분야     소계     민원분야    민원분야    민원분야    민원분야    민원분야    민원분야    민원분야    민원분야    민원분야    민원분야     민원분야     소계     민원분야    민원분야    민원분야    민원분야    민원분야    민원분야    민원분야    민원분야    민원분야    민원분야     민원분야     소계     민원분야    민원분야    민원분야    민원분야    민원분야    민원분야    민원분야    민원분야    민원분야    민원분야     민원분야     위원회분야    소계      민원분야    민원분야    민원분야    민원분야    민원분야    민원분야    민원분야    민원분야    민원분야    민원분야     민원분야     위원회분야    소계      민원분야    민원분야    민원분야    민원분야    민원분야    민원분야    민원분야    민원분야    민원분야    민원분야     민원분야     위원회분야    소계      민원분야    민원분야    민원분야    민원분야    민원분야    민원분야    민원분야    민원분야    민원분야    민원분야     민원분야     민원분야     민원분야     위원회분야    소계    소계      민원분야    민원분야    민원분야    민원분야    민원분야    민원분야    민원분야    민원분야    민원분야     민원분야     민원분야     민원분야     민원분야     민원분야     민원분야     민원분야     민원분야     민원분야     민원분야     민원분야     민원분야     민원분야     민원분야     민원분야     민원분야     민원분야     위원회분야    위원회분야    소계    소계      민원분야    민원분야    민원분야    민원분야    민원분야    민원분야    민원분야    민원분야    민원분야     민원분야     민원분야     민원분야     민원분야     민원분야     민원분야     민원분야     민원분야     민원분야     민원분야     민원분야     민원분야     민원분야     민원분야     민원분야     위원회분야    위원회분야    소계    소계      민원분야    민원분야    민원분야    민원분야    민원분야    민원분야    민원분야    민원분야    민원분야     민원분야     민원분야     민원분야     민원분야     민원분야     민원분야     민원분야     민원분야     민원분야     민원분야     민원분야     민원분야     민원분야     민원분야     민원분야     위원회분야    위원회분야    소계    소계      민원분야    민원분야    민원분야    민원분야    민원분야    민원분야    민원분야    민원분야    민원분야     민원분야     민원분야     민원분야     민원분야     민원분야     민원분야     민원분야     민원분야     민원분야     민원분야     민원분야     민원분야     민원분야     민원분야     민원분야     위원회분야    위원회분야    소계    소계      민원분야    민원분야    민원분야    민원분야    민원분야    민원분야    민원분야    민원분야    민원분야     민원분야     민원분야     민원분야     민원분야     민원분야     소계    소계      민원분야    민원분야    민원분야    민원분야    민원분야    민원분야    민원분야    민원분야    민원분야     민원분야     민원분야     민원분야     민원분야     소계    소계      민원분야    민원분야    민원분야    민원분야    민원분야    민원분야    민원분야    민원분야      1\n",
            "       소계      건설분야    교통분야    도시계획분야  문화관광분야  보건복지분야  산업경제분야  소방분야    주택건축분야  환경분야     행정분야     소계     소계      건설분야    교통분야    도시계획분야  문화관광분야  보건복지분야  산업경제분야  소방분야    주택건축분야  환경분야     행정분야     소계     소계      건설분야    교통분야    도시계획분야  문화관광분야  보건복지분야  산업경제분야  소방분야    주택건축분야  환경분야     행정분야     소계     소계      건설분야    교통분야    도시계획분야  문화관광분야  보건복지분야  산업경제분야  소방분야    주택건축분야  환경분야     행정분야     소계     소계      건설분야    교통분야    도시계획분야  문화관광분야  보건복지분야  산업경제분야  소방분야    주택건축분야  환경분야     행정분야     소계       소계      소계      건설분야    교통분야    도시계획분야  문화관광분야  보건복지분야  산업경제분야  소방분야    주택건축분야  환경분야     행정분야     소계       소계      소계      건설분야    교통분야    도시계획분야  문화관광분야  보건복지분야  산업경제분야  소방분야    주택건축분야  환경분야     행정분야     소계       소계      소계      건설분야    교통분야    도시계획분야  문화관광분야  보건복지분야  산업경제분야  소방분야    주택건축분야  환경분야     행정분야     상수도분야    정보통신분야   소계       소계    소계      소계      소계      건설분야    건설분야    교통분야    교통분야    도시계획분야  도시계획분야  문화관광분야   문화관광분야   보건복지분야   보건복지분야   산업경제분야   산업경제분야   소방분야     소방분야     주택건축분야   주택건축분야   환경분야     환경분야     행정분야     행정분야     상수도분야    상수도분야    정보통신분야   정보통신분야   소계       소계       소계    소계      소계      소계      건설분야    건설분야    교통분야    교통분야    도시계획분야  도시계획분야  문화관광분야   문화관광분야   보건복지분야   보건복지분야   산업경제분야   산업경제분야   소방분야     소방분야     주택건축분야   주택건축분야   환경분야     환경분야     행정분야     행정분야     정보통신분야   정보통신분야   소계       소계       소계    소계      소계      소계      건설분야    건설분야    교통분야    교통분야    도시계획분야  도시계획분야  문화관광분야   문화관광분야   보건복지분야   보건복지분야   산업경제분야   산업경제분야   소방분야     소방분야     주택건축분야   주택건축분야   환경분야     환경분야     행정분야     행정분야     정보통신분야   정보통신분야   소계       소계       소계    소계      소계      소계      건설분야    건설분야    교통분야    교통분야    도시계획분야  도시계획분야  문화관광분야   문화관광분야   보건복지분야   보건복지분야   산업경제분야   산업경제분야   소방분야     소방분야     주택건축분야   주택건축분야   환경분야     환경분야     행정분야     행정분야     상수도분야    상수도분야    소계       소계       소계    소계      소계      소계      건설분야    건설분야    교통분야    교통분야    도시계획분야  도시계획분야  문화관광분야   문화관광분야   산업경제분야   산업경제분야   환경분야     환경분야     소계    소계      소계      소계      건설분야    건설분야    교통분야    교통분야    도시계획분야  문화관광분야  문화관광분야   산업경제분야   산업경제분야   환경분야     환경분야     소계    소계      소계      소계      건설분야    건설분야    교통분야    문화관광분야  산업경제분야  환경분야      1\n",
            "업무수    업무수     업무수     업무수     업무수     업무수     업무수     업무수     업무수     업무수     업무수      업무수      업무수    업무수     업무수     업무수     업무수     업무수     업무수     업무수     업무수     업무수     업무수      업무수      업무수    업무수     업무수     업무수     업무수     업무수     업무수     업무수     업무수     업무수     업무수      업무수      업무수    업무수     업무수     업무수     업무수     업무수     업무수     업무수     업무수     업무수     업무수      업무수      업무수    업무수     업무수     업무수     업무수     업무수     업무수     업무수     업무수     업무수     업무수      업무수      업무수      업무수     업무수     업무수     업무수     업무수     업무수     업무수     업무수     업무수     업무수     업무수      업무수      업무수      업무수     업무수     업무수     업무수     업무수     업무수     업무수     업무수     업무수     업무수     업무수      업무수      업무수      업무수     업무수     업무수     업무수     업무수     업무수     업무수     업무수     업무수     업무수     업무수      업무수      업무수      업무수      업무수      업무수   민원수     업무수     민원수     업무수     민원수     업무수     민원수     업무수     민원수     업무수      민원수      업무수      민원수      업무수      민원수      업무수      민원수      업무수      민원수      업무수      민원수      업무수      민원수      업무수      민원수      업무수      민원수      업무수      민원수      업무수   민원수     업무수     민원수     업무수     민원수     업무수     민원수     업무수     민원수     업무수      민원수      업무수      민원수      업무수      민원수      업무수      민원수      업무수      민원수      업무수      민원수      업무수      민원수      업무수      민원수      업무수      민원수      업무수   민원수     업무수     민원수     업무수     민원수     업무수     민원수     업무수     민원수     업무수      민원수      업무수      민원수      업무수      민원수      업무수      민원수      업무수      민원수      업무수      민원수      업무수      민원수      업무수      민원수      업무수      민원수      업무수   민원수     업무수     민원수     업무수     민원수     업무수     민원수     업무수     민원수     업무수      민원수      업무수      민원수      업무수      민원수      업무수      민원수      업무수      민원수      업무수      민원수      업무수      민원수      업무수      민원수      업무수      민원수      업무수   민원수     업무수     민원수     업무수     민원수     업무수     민원수     업무수     민원수     업무수      민원수      업무수      민원수      업무수      민원수      업무수   민원수     업무수     민원수     업무수     민원수     업무수     민원수     업무수     업무수     민원수      업무수      민원수      업무수      민원수      업무수   민원수     업무수     민원수     업무수     민원수     업무수     업무수     업무수     업무수       1\n",
            "합계     합계      합계      합계      합계      합계      합계      합계      합계      합계      합계       합계       합계     합계      합계      합계      합계      합계      합계      합계      합계      합계      합계       합계       합계     합계      합계      합계      합계      합계      합계      합계      합계      합계      합계       합계       합계     합계      합계      합계      합계      합계      합계      합계      합계      합계      합계       합계       합계     합계      합계      합계      합계      합계      합계      합계      합계      합계      합계       합계       합계       합계      합계      합계      합계      합계      합계      합계      합계      합계      합계      합계       합계       합계       합계      합계      합계      합계      합계      합계      합계      합계      합계      합계      합계       합계       합계       합계      합계      합계      합계      합계      합계      합계      합계      합계      합계      합계       합계       합계       합계       합계       합계    합계      합계      합계      합계      합계      합계      합계      합계      합계      합계       합계       합계       합계       합계       합계       합계       합계       합계       합계       합계       합계       합계       합계       합계       합계       합계       합계       합계       합계       합계    합계      합계      합계      합계      합계      합계      합계      합계      합계      합계       합계       합계       합계       합계       합계       합계       합계       합계       합계       합계       합계       합계       합계       합계       합계       합계       합계       합계    합계      합계      합계      합계      합계      합계      합계      합계      합계      합계       합계       합계       합계       합계       합계       합계       합계       합계       합계       합계       합계       합계       합계       합계       합계       합계       합계       합계    합계      합계      합계      합계      합계      합계      합계      합계      합계      합계       합계       합계       합계       합계       합계       합계       합계       합계       합계       합계       합계       합계       합계       합계       합계       합계       합계       합계    합계      합계      합계      합계      합계      합계      합계      합계      합계      합계       합계       합계       합계       합계       합계       합계    합계      합계      합계      합계      합계      합계      합계      합계      합계      합계       합계       합계       합계       합계       합계    합계      합계      합계      합계      합계      합계      합계      합계      합계        1\n",
            "dtype: int64\n"
          ]
        }
      ]
    },
    {
      "cell_type": "code",
      "source": [
        "col_1999 = ['1999', '1999.1', '1999.2', '1999.3', '1999.4', '1999.5', '1999.6', '1999.7', '1999.8', '1999.9', '1999.10', '1999.11']\n",
        "df_1999 = df.loc[:, col_1999]"
      ],
      "metadata": {
        "id": "vgXBbNMaX9Cd"
      },
      "execution_count": null,
      "outputs": []
    },
    {
      "cell_type": "code",
      "source": [
        "df_1999.head()"
      ],
      "metadata": {
        "colab": {
          "base_uri": "https://localhost:8080/",
          "height": 206
        },
        "id": "D_7KfnAMYpEN",
        "outputId": "baad9e7b-9276-4611-d667-782272fd2d92"
      },
      "execution_count": null,
      "outputs": [
        {
          "output_type": "execute_result",
          "data": {
            "text/plain": [
              "    1999 1999.1 1999.2 1999.3  1999.4  1999.5  1999.6  1999.7 1999.8  1999.9  \\\n",
              "0     합계     합계     합계     합계      합계      합계      합계      합계     합계      합계   \n",
              "1     소계   민원분야   민원분야   민원분야    민원분야    민원분야    민원분야    민원분야   민원분야    민원분야   \n",
              "2     소계     소계   건설분야   교통분야  도시계획분야  문화관광분야  보건복지분야  산업경제분야   소방분야  주택건축분야   \n",
              "3    업무수    업무수    업무수    업무수     업무수     업무수     업무수     업무수    업무수     업무수   \n",
              "4  12426  12426    844    209     506     108    4424      68   1521    3805   \n",
              "\n",
              "  1999.10 1999.11  \n",
              "0      합계      합계  \n",
              "1    민원분야    민원분야  \n",
              "2    환경분야    행정분야  \n",
              "3     업무수     업무수  \n",
              "4     183     758  "
            ],
            "text/html": [
              "\n",
              "  <div id=\"df-42a388f9-910a-4dc8-983d-14df65bfac3f\">\n",
              "    <div class=\"colab-df-container\">\n",
              "      <div>\n",
              "<style scoped>\n",
              "    .dataframe tbody tr th:only-of-type {\n",
              "        vertical-align: middle;\n",
              "    }\n",
              "\n",
              "    .dataframe tbody tr th {\n",
              "        vertical-align: top;\n",
              "    }\n",
              "\n",
              "    .dataframe thead th {\n",
              "        text-align: right;\n",
              "    }\n",
              "</style>\n",
              "<table border=\"1\" class=\"dataframe\">\n",
              "  <thead>\n",
              "    <tr style=\"text-align: right;\">\n",
              "      <th></th>\n",
              "      <th>1999</th>\n",
              "      <th>1999.1</th>\n",
              "      <th>1999.2</th>\n",
              "      <th>1999.3</th>\n",
              "      <th>1999.4</th>\n",
              "      <th>1999.5</th>\n",
              "      <th>1999.6</th>\n",
              "      <th>1999.7</th>\n",
              "      <th>1999.8</th>\n",
              "      <th>1999.9</th>\n",
              "      <th>1999.10</th>\n",
              "      <th>1999.11</th>\n",
              "    </tr>\n",
              "  </thead>\n",
              "  <tbody>\n",
              "    <tr>\n",
              "      <th>0</th>\n",
              "      <td>합계</td>\n",
              "      <td>합계</td>\n",
              "      <td>합계</td>\n",
              "      <td>합계</td>\n",
              "      <td>합계</td>\n",
              "      <td>합계</td>\n",
              "      <td>합계</td>\n",
              "      <td>합계</td>\n",
              "      <td>합계</td>\n",
              "      <td>합계</td>\n",
              "      <td>합계</td>\n",
              "      <td>합계</td>\n",
              "    </tr>\n",
              "    <tr>\n",
              "      <th>1</th>\n",
              "      <td>소계</td>\n",
              "      <td>민원분야</td>\n",
              "      <td>민원분야</td>\n",
              "      <td>민원분야</td>\n",
              "      <td>민원분야</td>\n",
              "      <td>민원분야</td>\n",
              "      <td>민원분야</td>\n",
              "      <td>민원분야</td>\n",
              "      <td>민원분야</td>\n",
              "      <td>민원분야</td>\n",
              "      <td>민원분야</td>\n",
              "      <td>민원분야</td>\n",
              "    </tr>\n",
              "    <tr>\n",
              "      <th>2</th>\n",
              "      <td>소계</td>\n",
              "      <td>소계</td>\n",
              "      <td>건설분야</td>\n",
              "      <td>교통분야</td>\n",
              "      <td>도시계획분야</td>\n",
              "      <td>문화관광분야</td>\n",
              "      <td>보건복지분야</td>\n",
              "      <td>산업경제분야</td>\n",
              "      <td>소방분야</td>\n",
              "      <td>주택건축분야</td>\n",
              "      <td>환경분야</td>\n",
              "      <td>행정분야</td>\n",
              "    </tr>\n",
              "    <tr>\n",
              "      <th>3</th>\n",
              "      <td>업무수</td>\n",
              "      <td>업무수</td>\n",
              "      <td>업무수</td>\n",
              "      <td>업무수</td>\n",
              "      <td>업무수</td>\n",
              "      <td>업무수</td>\n",
              "      <td>업무수</td>\n",
              "      <td>업무수</td>\n",
              "      <td>업무수</td>\n",
              "      <td>업무수</td>\n",
              "      <td>업무수</td>\n",
              "      <td>업무수</td>\n",
              "    </tr>\n",
              "    <tr>\n",
              "      <th>4</th>\n",
              "      <td>12426</td>\n",
              "      <td>12426</td>\n",
              "      <td>844</td>\n",
              "      <td>209</td>\n",
              "      <td>506</td>\n",
              "      <td>108</td>\n",
              "      <td>4424</td>\n",
              "      <td>68</td>\n",
              "      <td>1521</td>\n",
              "      <td>3805</td>\n",
              "      <td>183</td>\n",
              "      <td>758</td>\n",
              "    </tr>\n",
              "  </tbody>\n",
              "</table>\n",
              "</div>\n",
              "      <button class=\"colab-df-convert\" onclick=\"convertToInteractive('df-42a388f9-910a-4dc8-983d-14df65bfac3f')\"\n",
              "              title=\"Convert this dataframe to an interactive table.\"\n",
              "              style=\"display:none;\">\n",
              "        \n",
              "  <svg xmlns=\"http://www.w3.org/2000/svg\" height=\"24px\"viewBox=\"0 0 24 24\"\n",
              "       width=\"24px\">\n",
              "    <path d=\"M0 0h24v24H0V0z\" fill=\"none\"/>\n",
              "    <path d=\"M18.56 5.44l.94 2.06.94-2.06 2.06-.94-2.06-.94-.94-2.06-.94 2.06-2.06.94zm-11 1L8.5 8.5l.94-2.06 2.06-.94-2.06-.94L8.5 2.5l-.94 2.06-2.06.94zm10 10l.94 2.06.94-2.06 2.06-.94-2.06-.94-.94-2.06-.94 2.06-2.06.94z\"/><path d=\"M17.41 7.96l-1.37-1.37c-.4-.4-.92-.59-1.43-.59-.52 0-1.04.2-1.43.59L10.3 9.45l-7.72 7.72c-.78.78-.78 2.05 0 2.83L4 21.41c.39.39.9.59 1.41.59.51 0 1.02-.2 1.41-.59l7.78-7.78 2.81-2.81c.8-.78.8-2.07 0-2.86zM5.41 20L4 18.59l7.72-7.72 1.47 1.35L5.41 20z\"/>\n",
              "  </svg>\n",
              "      </button>\n",
              "      \n",
              "  <style>\n",
              "    .colab-df-container {\n",
              "      display:flex;\n",
              "      flex-wrap:wrap;\n",
              "      gap: 12px;\n",
              "    }\n",
              "\n",
              "    .colab-df-convert {\n",
              "      background-color: #E8F0FE;\n",
              "      border: none;\n",
              "      border-radius: 50%;\n",
              "      cursor: pointer;\n",
              "      display: none;\n",
              "      fill: #1967D2;\n",
              "      height: 32px;\n",
              "      padding: 0 0 0 0;\n",
              "      width: 32px;\n",
              "    }\n",
              "\n",
              "    .colab-df-convert:hover {\n",
              "      background-color: #E2EBFA;\n",
              "      box-shadow: 0px 1px 2px rgba(60, 64, 67, 0.3), 0px 1px 3px 1px rgba(60, 64, 67, 0.15);\n",
              "      fill: #174EA6;\n",
              "    }\n",
              "\n",
              "    [theme=dark] .colab-df-convert {\n",
              "      background-color: #3B4455;\n",
              "      fill: #D2E3FC;\n",
              "    }\n",
              "\n",
              "    [theme=dark] .colab-df-convert:hover {\n",
              "      background-color: #434B5C;\n",
              "      box-shadow: 0px 1px 3px 1px rgba(0, 0, 0, 0.15);\n",
              "      filter: drop-shadow(0px 1px 2px rgba(0, 0, 0, 0.3));\n",
              "      fill: #FFFFFF;\n",
              "    }\n",
              "  </style>\n",
              "\n",
              "      <script>\n",
              "        const buttonEl =\n",
              "          document.querySelector('#df-42a388f9-910a-4dc8-983d-14df65bfac3f button.colab-df-convert');\n",
              "        buttonEl.style.display =\n",
              "          google.colab.kernel.accessAllowed ? 'block' : 'none';\n",
              "\n",
              "        async function convertToInteractive(key) {\n",
              "          const element = document.querySelector('#df-42a388f9-910a-4dc8-983d-14df65bfac3f');\n",
              "          const dataTable =\n",
              "            await google.colab.kernel.invokeFunction('convertToInteractive',\n",
              "                                                     [key], {});\n",
              "          if (!dataTable) return;\n",
              "\n",
              "          const docLinkHtml = 'Like what you see? Visit the ' +\n",
              "            '<a target=\"_blank\" href=https://colab.research.google.com/notebooks/data_table.ipynb>data table notebook</a>'\n",
              "            + ' to learn more about interactive tables.';\n",
              "          element.innerHTML = '';\n",
              "          dataTable['output_type'] = 'display_data';\n",
              "          await google.colab.output.renderOutput(dataTable, element);\n",
              "          const docLink = document.createElement('div');\n",
              "          docLink.innerHTML = docLinkHtml;\n",
              "          element.appendChild(docLink);\n",
              "        }\n",
              "      </script>\n",
              "    </div>\n",
              "  </div>\n",
              "  "
            ]
          },
          "metadata": {},
          "execution_count": 16
        }
      ]
    },
    {
      "cell_type": "markdown",
      "source": [
        "## 경기주택도시공사_민원정보_221130"
      ],
      "metadata": {
        "id": "kvbe1i4ZY1Y6"
      }
    },
    {
      "cell_type": "code",
      "source": [
        "df2 = pd.read_csv('경기주택도시공사_민원정보_221130.csv', encoding='cp949')\n",
        "df2.head()"
      ],
      "metadata": {
        "colab": {
          "base_uri": "https://localhost:8080/",
          "height": 206
        },
        "id": "aP-ug9dHbAPQ",
        "outputId": "e4eec4f6-b1a7-4181-b681-30adc92180b6"
      },
      "execution_count": null,
      "outputs": [
        {
          "output_type": "execute_result",
          "data": {
            "text/plain": [
              "   민원구분    년도   1월  2월  3월   4월   5월  6월  7월  8월  9월  10월  11월  12월\n",
              "0  도시재생  2022  6.0   6   6  3.0  2.0   0   2   0   4    2  1.0    0\n",
              "1  고덕택지  2022  1.0   0   1  0.0  1.0   0   1   2   1    0  0.0    0\n",
              "2  고양택지  2022  0.0   0   0  0.0  0.0   0   0   0   0    0  0.0    0\n",
              "3  광교택지  2022  0.0   0   2  0.0  0.0   0   0   0   2    2  0.0    0\n",
              "4  다산택지  2022  0.0   0   0  2.0  1.0   2   2   3   0    0  0.0    0"
            ],
            "text/html": [
              "\n",
              "  <div id=\"df-e34fbba6-693d-4fea-89b7-05b119ef62a9\">\n",
              "    <div class=\"colab-df-container\">\n",
              "      <div>\n",
              "<style scoped>\n",
              "    .dataframe tbody tr th:only-of-type {\n",
              "        vertical-align: middle;\n",
              "    }\n",
              "\n",
              "    .dataframe tbody tr th {\n",
              "        vertical-align: top;\n",
              "    }\n",
              "\n",
              "    .dataframe thead th {\n",
              "        text-align: right;\n",
              "    }\n",
              "</style>\n",
              "<table border=\"1\" class=\"dataframe\">\n",
              "  <thead>\n",
              "    <tr style=\"text-align: right;\">\n",
              "      <th></th>\n",
              "      <th>민원구분</th>\n",
              "      <th>년도</th>\n",
              "      <th>1월</th>\n",
              "      <th>2월</th>\n",
              "      <th>3월</th>\n",
              "      <th>4월</th>\n",
              "      <th>5월</th>\n",
              "      <th>6월</th>\n",
              "      <th>7월</th>\n",
              "      <th>8월</th>\n",
              "      <th>9월</th>\n",
              "      <th>10월</th>\n",
              "      <th>11월</th>\n",
              "      <th>12월</th>\n",
              "    </tr>\n",
              "  </thead>\n",
              "  <tbody>\n",
              "    <tr>\n",
              "      <th>0</th>\n",
              "      <td>도시재생</td>\n",
              "      <td>2022</td>\n",
              "      <td>6.0</td>\n",
              "      <td>6</td>\n",
              "      <td>6</td>\n",
              "      <td>3.0</td>\n",
              "      <td>2.0</td>\n",
              "      <td>0</td>\n",
              "      <td>2</td>\n",
              "      <td>0</td>\n",
              "      <td>4</td>\n",
              "      <td>2</td>\n",
              "      <td>1.0</td>\n",
              "      <td>0</td>\n",
              "    </tr>\n",
              "    <tr>\n",
              "      <th>1</th>\n",
              "      <td>고덕택지</td>\n",
              "      <td>2022</td>\n",
              "      <td>1.0</td>\n",
              "      <td>0</td>\n",
              "      <td>1</td>\n",
              "      <td>0.0</td>\n",
              "      <td>1.0</td>\n",
              "      <td>0</td>\n",
              "      <td>1</td>\n",
              "      <td>2</td>\n",
              "      <td>1</td>\n",
              "      <td>0</td>\n",
              "      <td>0.0</td>\n",
              "      <td>0</td>\n",
              "    </tr>\n",
              "    <tr>\n",
              "      <th>2</th>\n",
              "      <td>고양택지</td>\n",
              "      <td>2022</td>\n",
              "      <td>0.0</td>\n",
              "      <td>0</td>\n",
              "      <td>0</td>\n",
              "      <td>0.0</td>\n",
              "      <td>0.0</td>\n",
              "      <td>0</td>\n",
              "      <td>0</td>\n",
              "      <td>0</td>\n",
              "      <td>0</td>\n",
              "      <td>0</td>\n",
              "      <td>0.0</td>\n",
              "      <td>0</td>\n",
              "    </tr>\n",
              "    <tr>\n",
              "      <th>3</th>\n",
              "      <td>광교택지</td>\n",
              "      <td>2022</td>\n",
              "      <td>0.0</td>\n",
              "      <td>0</td>\n",
              "      <td>2</td>\n",
              "      <td>0.0</td>\n",
              "      <td>0.0</td>\n",
              "      <td>0</td>\n",
              "      <td>0</td>\n",
              "      <td>0</td>\n",
              "      <td>2</td>\n",
              "      <td>2</td>\n",
              "      <td>0.0</td>\n",
              "      <td>0</td>\n",
              "    </tr>\n",
              "    <tr>\n",
              "      <th>4</th>\n",
              "      <td>다산택지</td>\n",
              "      <td>2022</td>\n",
              "      <td>0.0</td>\n",
              "      <td>0</td>\n",
              "      <td>0</td>\n",
              "      <td>2.0</td>\n",
              "      <td>1.0</td>\n",
              "      <td>2</td>\n",
              "      <td>2</td>\n",
              "      <td>3</td>\n",
              "      <td>0</td>\n",
              "      <td>0</td>\n",
              "      <td>0.0</td>\n",
              "      <td>0</td>\n",
              "    </tr>\n",
              "  </tbody>\n",
              "</table>\n",
              "</div>\n",
              "      <button class=\"colab-df-convert\" onclick=\"convertToInteractive('df-e34fbba6-693d-4fea-89b7-05b119ef62a9')\"\n",
              "              title=\"Convert this dataframe to an interactive table.\"\n",
              "              style=\"display:none;\">\n",
              "        \n",
              "  <svg xmlns=\"http://www.w3.org/2000/svg\" height=\"24px\"viewBox=\"0 0 24 24\"\n",
              "       width=\"24px\">\n",
              "    <path d=\"M0 0h24v24H0V0z\" fill=\"none\"/>\n",
              "    <path d=\"M18.56 5.44l.94 2.06.94-2.06 2.06-.94-2.06-.94-.94-2.06-.94 2.06-2.06.94zm-11 1L8.5 8.5l.94-2.06 2.06-.94-2.06-.94L8.5 2.5l-.94 2.06-2.06.94zm10 10l.94 2.06.94-2.06 2.06-.94-2.06-.94-.94-2.06-.94 2.06-2.06.94z\"/><path d=\"M17.41 7.96l-1.37-1.37c-.4-.4-.92-.59-1.43-.59-.52 0-1.04.2-1.43.59L10.3 9.45l-7.72 7.72c-.78.78-.78 2.05 0 2.83L4 21.41c.39.39.9.59 1.41.59.51 0 1.02-.2 1.41-.59l7.78-7.78 2.81-2.81c.8-.78.8-2.07 0-2.86zM5.41 20L4 18.59l7.72-7.72 1.47 1.35L5.41 20z\"/>\n",
              "  </svg>\n",
              "      </button>\n",
              "      \n",
              "  <style>\n",
              "    .colab-df-container {\n",
              "      display:flex;\n",
              "      flex-wrap:wrap;\n",
              "      gap: 12px;\n",
              "    }\n",
              "\n",
              "    .colab-df-convert {\n",
              "      background-color: #E8F0FE;\n",
              "      border: none;\n",
              "      border-radius: 50%;\n",
              "      cursor: pointer;\n",
              "      display: none;\n",
              "      fill: #1967D2;\n",
              "      height: 32px;\n",
              "      padding: 0 0 0 0;\n",
              "      width: 32px;\n",
              "    }\n",
              "\n",
              "    .colab-df-convert:hover {\n",
              "      background-color: #E2EBFA;\n",
              "      box-shadow: 0px 1px 2px rgba(60, 64, 67, 0.3), 0px 1px 3px 1px rgba(60, 64, 67, 0.15);\n",
              "      fill: #174EA6;\n",
              "    }\n",
              "\n",
              "    [theme=dark] .colab-df-convert {\n",
              "      background-color: #3B4455;\n",
              "      fill: #D2E3FC;\n",
              "    }\n",
              "\n",
              "    [theme=dark] .colab-df-convert:hover {\n",
              "      background-color: #434B5C;\n",
              "      box-shadow: 0px 1px 3px 1px rgba(0, 0, 0, 0.15);\n",
              "      filter: drop-shadow(0px 1px 2px rgba(0, 0, 0, 0.3));\n",
              "      fill: #FFFFFF;\n",
              "    }\n",
              "  </style>\n",
              "\n",
              "      <script>\n",
              "        const buttonEl =\n",
              "          document.querySelector('#df-e34fbba6-693d-4fea-89b7-05b119ef62a9 button.colab-df-convert');\n",
              "        buttonEl.style.display =\n",
              "          google.colab.kernel.accessAllowed ? 'block' : 'none';\n",
              "\n",
              "        async function convertToInteractive(key) {\n",
              "          const element = document.querySelector('#df-e34fbba6-693d-4fea-89b7-05b119ef62a9');\n",
              "          const dataTable =\n",
              "            await google.colab.kernel.invokeFunction('convertToInteractive',\n",
              "                                                     [key], {});\n",
              "          if (!dataTable) return;\n",
              "\n",
              "          const docLinkHtml = 'Like what you see? Visit the ' +\n",
              "            '<a target=\"_blank\" href=https://colab.research.google.com/notebooks/data_table.ipynb>data table notebook</a>'\n",
              "            + ' to learn more about interactive tables.';\n",
              "          element.innerHTML = '';\n",
              "          dataTable['output_type'] = 'display_data';\n",
              "          await google.colab.output.renderOutput(dataTable, element);\n",
              "          const docLink = document.createElement('div');\n",
              "          docLink.innerHTML = docLinkHtml;\n",
              "          element.appendChild(docLink);\n",
              "        }\n",
              "      </script>\n",
              "    </div>\n",
              "  </div>\n",
              "  "
            ]
          },
          "metadata": {},
          "execution_count": 19
        }
      ]
    },
    {
      "cell_type": "markdown",
      "source": [
        "## 광주 광역시 바로응답    "
      ],
      "metadata": {
        "id": "TzOs9ft_gjax"
      }
    },
    {
      "cell_type": "code",
      "source": [
        "df3 = pd.read_csv('/content/광주광역시_바로응답 민원현황_20220227.csv', encoding='cp949')"
      ],
      "metadata": {
        "id": "FzA2V4Xbn-Bf"
      },
      "execution_count": null,
      "outputs": []
    },
    {
      "cell_type": "code",
      "source": [
        "df3.head()"
      ],
      "metadata": {
        "colab": {
          "base_uri": "https://localhost:8080/",
          "height": 206
        },
        "id": "ujqucMwroELR",
        "outputId": "0c15e57d-76f8-4751-9853-cb05f6903d34"
      },
      "execution_count": null,
      "outputs": [
        {
          "output_type": "execute_result",
          "data": {
            "text/plain": [
              "      순번                      제목  작성자     처리부서  처리상태             작성일시  조회수\n",
              "0  60015             버스기사 불친절 민원  김**      NaN    대기  2022-02-27 6:24    0\n",
              "1  60013                시위 소음 신고  최**  혁신소통기획관    취하  2021-08-23 9:21    0\n",
              "2  60012       국민신문고 감사의뢰에 대한 질의  박**    감사위원회  답변완료  2021-08-23 9:00    0\n",
              "3  60011                   집주변공사  오**      광산구  답변완료  2021-08-23 8:16  841\n",
              "4  60010  버스 기사가 마스크를 쓰지 안고서 운전함  김**    대중교통과  답변완료  2021-08-23 7:54    0"
            ],
            "text/html": [
              "\n",
              "  <div id=\"df-c0194b88-87e3-4f2c-a52a-e0bf3e418297\">\n",
              "    <div class=\"colab-df-container\">\n",
              "      <div>\n",
              "<style scoped>\n",
              "    .dataframe tbody tr th:only-of-type {\n",
              "        vertical-align: middle;\n",
              "    }\n",
              "\n",
              "    .dataframe tbody tr th {\n",
              "        vertical-align: top;\n",
              "    }\n",
              "\n",
              "    .dataframe thead th {\n",
              "        text-align: right;\n",
              "    }\n",
              "</style>\n",
              "<table border=\"1\" class=\"dataframe\">\n",
              "  <thead>\n",
              "    <tr style=\"text-align: right;\">\n",
              "      <th></th>\n",
              "      <th>순번</th>\n",
              "      <th>제목</th>\n",
              "      <th>작성자</th>\n",
              "      <th>처리부서</th>\n",
              "      <th>처리상태</th>\n",
              "      <th>작성일시</th>\n",
              "      <th>조회수</th>\n",
              "    </tr>\n",
              "  </thead>\n",
              "  <tbody>\n",
              "    <tr>\n",
              "      <th>0</th>\n",
              "      <td>60015</td>\n",
              "      <td>버스기사 불친절 민원</td>\n",
              "      <td>김**</td>\n",
              "      <td>NaN</td>\n",
              "      <td>대기</td>\n",
              "      <td>2022-02-27 6:24</td>\n",
              "      <td>0</td>\n",
              "    </tr>\n",
              "    <tr>\n",
              "      <th>1</th>\n",
              "      <td>60013</td>\n",
              "      <td>시위 소음 신고</td>\n",
              "      <td>최**</td>\n",
              "      <td>혁신소통기획관</td>\n",
              "      <td>취하</td>\n",
              "      <td>2021-08-23 9:21</td>\n",
              "      <td>0</td>\n",
              "    </tr>\n",
              "    <tr>\n",
              "      <th>2</th>\n",
              "      <td>60012</td>\n",
              "      <td>국민신문고 감사의뢰에 대한 질의</td>\n",
              "      <td>박**</td>\n",
              "      <td>감사위원회</td>\n",
              "      <td>답변완료</td>\n",
              "      <td>2021-08-23 9:00</td>\n",
              "      <td>0</td>\n",
              "    </tr>\n",
              "    <tr>\n",
              "      <th>3</th>\n",
              "      <td>60011</td>\n",
              "      <td>집주변공사</td>\n",
              "      <td>오**</td>\n",
              "      <td>광산구</td>\n",
              "      <td>답변완료</td>\n",
              "      <td>2021-08-23 8:16</td>\n",
              "      <td>841</td>\n",
              "    </tr>\n",
              "    <tr>\n",
              "      <th>4</th>\n",
              "      <td>60010</td>\n",
              "      <td>버스 기사가 마스크를 쓰지 안고서 운전함</td>\n",
              "      <td>김**</td>\n",
              "      <td>대중교통과</td>\n",
              "      <td>답변완료</td>\n",
              "      <td>2021-08-23 7:54</td>\n",
              "      <td>0</td>\n",
              "    </tr>\n",
              "  </tbody>\n",
              "</table>\n",
              "</div>\n",
              "      <button class=\"colab-df-convert\" onclick=\"convertToInteractive('df-c0194b88-87e3-4f2c-a52a-e0bf3e418297')\"\n",
              "              title=\"Convert this dataframe to an interactive table.\"\n",
              "              style=\"display:none;\">\n",
              "        \n",
              "  <svg xmlns=\"http://www.w3.org/2000/svg\" height=\"24px\"viewBox=\"0 0 24 24\"\n",
              "       width=\"24px\">\n",
              "    <path d=\"M0 0h24v24H0V0z\" fill=\"none\"/>\n",
              "    <path d=\"M18.56 5.44l.94 2.06.94-2.06 2.06-.94-2.06-.94-.94-2.06-.94 2.06-2.06.94zm-11 1L8.5 8.5l.94-2.06 2.06-.94-2.06-.94L8.5 2.5l-.94 2.06-2.06.94zm10 10l.94 2.06.94-2.06 2.06-.94-2.06-.94-.94-2.06-.94 2.06-2.06.94z\"/><path d=\"M17.41 7.96l-1.37-1.37c-.4-.4-.92-.59-1.43-.59-.52 0-1.04.2-1.43.59L10.3 9.45l-7.72 7.72c-.78.78-.78 2.05 0 2.83L4 21.41c.39.39.9.59 1.41.59.51 0 1.02-.2 1.41-.59l7.78-7.78 2.81-2.81c.8-.78.8-2.07 0-2.86zM5.41 20L4 18.59l7.72-7.72 1.47 1.35L5.41 20z\"/>\n",
              "  </svg>\n",
              "      </button>\n",
              "      \n",
              "  <style>\n",
              "    .colab-df-container {\n",
              "      display:flex;\n",
              "      flex-wrap:wrap;\n",
              "      gap: 12px;\n",
              "    }\n",
              "\n",
              "    .colab-df-convert {\n",
              "      background-color: #E8F0FE;\n",
              "      border: none;\n",
              "      border-radius: 50%;\n",
              "      cursor: pointer;\n",
              "      display: none;\n",
              "      fill: #1967D2;\n",
              "      height: 32px;\n",
              "      padding: 0 0 0 0;\n",
              "      width: 32px;\n",
              "    }\n",
              "\n",
              "    .colab-df-convert:hover {\n",
              "      background-color: #E2EBFA;\n",
              "      box-shadow: 0px 1px 2px rgba(60, 64, 67, 0.3), 0px 1px 3px 1px rgba(60, 64, 67, 0.15);\n",
              "      fill: #174EA6;\n",
              "    }\n",
              "\n",
              "    [theme=dark] .colab-df-convert {\n",
              "      background-color: #3B4455;\n",
              "      fill: #D2E3FC;\n",
              "    }\n",
              "\n",
              "    [theme=dark] .colab-df-convert:hover {\n",
              "      background-color: #434B5C;\n",
              "      box-shadow: 0px 1px 3px 1px rgba(0, 0, 0, 0.15);\n",
              "      filter: drop-shadow(0px 1px 2px rgba(0, 0, 0, 0.3));\n",
              "      fill: #FFFFFF;\n",
              "    }\n",
              "  </style>\n",
              "\n",
              "      <script>\n",
              "        const buttonEl =\n",
              "          document.querySelector('#df-c0194b88-87e3-4f2c-a52a-e0bf3e418297 button.colab-df-convert');\n",
              "        buttonEl.style.display =\n",
              "          google.colab.kernel.accessAllowed ? 'block' : 'none';\n",
              "\n",
              "        async function convertToInteractive(key) {\n",
              "          const element = document.querySelector('#df-c0194b88-87e3-4f2c-a52a-e0bf3e418297');\n",
              "          const dataTable =\n",
              "            await google.colab.kernel.invokeFunction('convertToInteractive',\n",
              "                                                     [key], {});\n",
              "          if (!dataTable) return;\n",
              "\n",
              "          const docLinkHtml = 'Like what you see? Visit the ' +\n",
              "            '<a target=\"_blank\" href=https://colab.research.google.com/notebooks/data_table.ipynb>data table notebook</a>'\n",
              "            + ' to learn more about interactive tables.';\n",
              "          element.innerHTML = '';\n",
              "          dataTable['output_type'] = 'display_data';\n",
              "          await google.colab.output.renderOutput(dataTable, element);\n",
              "          const docLink = document.createElement('div');\n",
              "          docLink.innerHTML = docLinkHtml;\n",
              "          element.appendChild(docLink);\n",
              "        }\n",
              "      </script>\n",
              "    </div>\n",
              "  </div>\n",
              "  "
            ]
          },
          "metadata": {},
          "execution_count": 22
        }
      ]
    },
    {
      "cell_type": "code",
      "source": [
        "new_df3 = df3.loc[:,['제목', '처리부서']]"
      ],
      "metadata": {
        "id": "Fw4Z44ksoNo6"
      },
      "execution_count": null,
      "outputs": []
    },
    {
      "cell_type": "code",
      "source": [
        "new_df3.head()"
      ],
      "metadata": {
        "colab": {
          "base_uri": "https://localhost:8080/",
          "height": 206
        },
        "id": "PJm59pZ2odi8",
        "outputId": "d11d2582-2561-492f-af70-ec68f410f9b5"
      },
      "execution_count": null,
      "outputs": [
        {
          "output_type": "execute_result",
          "data": {
            "text/plain": [
              "                       제목     처리부서\n",
              "0             버스기사 불친절 민원      NaN\n",
              "1                시위 소음 신고  혁신소통기획관\n",
              "2       국민신문고 감사의뢰에 대한 질의    감사위원회\n",
              "3                   집주변공사      광산구\n",
              "4  버스 기사가 마스크를 쓰지 안고서 운전함    대중교통과"
            ],
            "text/html": [
              "\n",
              "  <div id=\"df-ec1517be-64b1-4505-aaf1-80551245b45b\">\n",
              "    <div class=\"colab-df-container\">\n",
              "      <div>\n",
              "<style scoped>\n",
              "    .dataframe tbody tr th:only-of-type {\n",
              "        vertical-align: middle;\n",
              "    }\n",
              "\n",
              "    .dataframe tbody tr th {\n",
              "        vertical-align: top;\n",
              "    }\n",
              "\n",
              "    .dataframe thead th {\n",
              "        text-align: right;\n",
              "    }\n",
              "</style>\n",
              "<table border=\"1\" class=\"dataframe\">\n",
              "  <thead>\n",
              "    <tr style=\"text-align: right;\">\n",
              "      <th></th>\n",
              "      <th>제목</th>\n",
              "      <th>처리부서</th>\n",
              "    </tr>\n",
              "  </thead>\n",
              "  <tbody>\n",
              "    <tr>\n",
              "      <th>0</th>\n",
              "      <td>버스기사 불친절 민원</td>\n",
              "      <td>NaN</td>\n",
              "    </tr>\n",
              "    <tr>\n",
              "      <th>1</th>\n",
              "      <td>시위 소음 신고</td>\n",
              "      <td>혁신소통기획관</td>\n",
              "    </tr>\n",
              "    <tr>\n",
              "      <th>2</th>\n",
              "      <td>국민신문고 감사의뢰에 대한 질의</td>\n",
              "      <td>감사위원회</td>\n",
              "    </tr>\n",
              "    <tr>\n",
              "      <th>3</th>\n",
              "      <td>집주변공사</td>\n",
              "      <td>광산구</td>\n",
              "    </tr>\n",
              "    <tr>\n",
              "      <th>4</th>\n",
              "      <td>버스 기사가 마스크를 쓰지 안고서 운전함</td>\n",
              "      <td>대중교통과</td>\n",
              "    </tr>\n",
              "  </tbody>\n",
              "</table>\n",
              "</div>\n",
              "      <button class=\"colab-df-convert\" onclick=\"convertToInteractive('df-ec1517be-64b1-4505-aaf1-80551245b45b')\"\n",
              "              title=\"Convert this dataframe to an interactive table.\"\n",
              "              style=\"display:none;\">\n",
              "        \n",
              "  <svg xmlns=\"http://www.w3.org/2000/svg\" height=\"24px\"viewBox=\"0 0 24 24\"\n",
              "       width=\"24px\">\n",
              "    <path d=\"M0 0h24v24H0V0z\" fill=\"none\"/>\n",
              "    <path d=\"M18.56 5.44l.94 2.06.94-2.06 2.06-.94-2.06-.94-.94-2.06-.94 2.06-2.06.94zm-11 1L8.5 8.5l.94-2.06 2.06-.94-2.06-.94L8.5 2.5l-.94 2.06-2.06.94zm10 10l.94 2.06.94-2.06 2.06-.94-2.06-.94-.94-2.06-.94 2.06-2.06.94z\"/><path d=\"M17.41 7.96l-1.37-1.37c-.4-.4-.92-.59-1.43-.59-.52 0-1.04.2-1.43.59L10.3 9.45l-7.72 7.72c-.78.78-.78 2.05 0 2.83L4 21.41c.39.39.9.59 1.41.59.51 0 1.02-.2 1.41-.59l7.78-7.78 2.81-2.81c.8-.78.8-2.07 0-2.86zM5.41 20L4 18.59l7.72-7.72 1.47 1.35L5.41 20z\"/>\n",
              "  </svg>\n",
              "      </button>\n",
              "      \n",
              "  <style>\n",
              "    .colab-df-container {\n",
              "      display:flex;\n",
              "      flex-wrap:wrap;\n",
              "      gap: 12px;\n",
              "    }\n",
              "\n",
              "    .colab-df-convert {\n",
              "      background-color: #E8F0FE;\n",
              "      border: none;\n",
              "      border-radius: 50%;\n",
              "      cursor: pointer;\n",
              "      display: none;\n",
              "      fill: #1967D2;\n",
              "      height: 32px;\n",
              "      padding: 0 0 0 0;\n",
              "      width: 32px;\n",
              "    }\n",
              "\n",
              "    .colab-df-convert:hover {\n",
              "      background-color: #E2EBFA;\n",
              "      box-shadow: 0px 1px 2px rgba(60, 64, 67, 0.3), 0px 1px 3px 1px rgba(60, 64, 67, 0.15);\n",
              "      fill: #174EA6;\n",
              "    }\n",
              "\n",
              "    [theme=dark] .colab-df-convert {\n",
              "      background-color: #3B4455;\n",
              "      fill: #D2E3FC;\n",
              "    }\n",
              "\n",
              "    [theme=dark] .colab-df-convert:hover {\n",
              "      background-color: #434B5C;\n",
              "      box-shadow: 0px 1px 3px 1px rgba(0, 0, 0, 0.15);\n",
              "      filter: drop-shadow(0px 1px 2px rgba(0, 0, 0, 0.3));\n",
              "      fill: #FFFFFF;\n",
              "    }\n",
              "  </style>\n",
              "\n",
              "      <script>\n",
              "        const buttonEl =\n",
              "          document.querySelector('#df-ec1517be-64b1-4505-aaf1-80551245b45b button.colab-df-convert');\n",
              "        buttonEl.style.display =\n",
              "          google.colab.kernel.accessAllowed ? 'block' : 'none';\n",
              "\n",
              "        async function convertToInteractive(key) {\n",
              "          const element = document.querySelector('#df-ec1517be-64b1-4505-aaf1-80551245b45b');\n",
              "          const dataTable =\n",
              "            await google.colab.kernel.invokeFunction('convertToInteractive',\n",
              "                                                     [key], {});\n",
              "          if (!dataTable) return;\n",
              "\n",
              "          const docLinkHtml = 'Like what you see? Visit the ' +\n",
              "            '<a target=\"_blank\" href=https://colab.research.google.com/notebooks/data_table.ipynb>data table notebook</a>'\n",
              "            + ' to learn more about interactive tables.';\n",
              "          element.innerHTML = '';\n",
              "          dataTable['output_type'] = 'display_data';\n",
              "          await google.colab.output.renderOutput(dataTable, element);\n",
              "          const docLink = document.createElement('div');\n",
              "          docLink.innerHTML = docLinkHtml;\n",
              "          element.appendChild(docLink);\n",
              "        }\n",
              "      </script>\n",
              "    </div>\n",
              "  </div>\n",
              "  "
            ]
          },
          "metadata": {},
          "execution_count": 24
        }
      ]
    },
    {
      "cell_type": "code",
      "source": [
        "new_df3.info()"
      ],
      "metadata": {
        "colab": {
          "base_uri": "https://localhost:8080/"
        },
        "id": "e5BjIGQuofct",
        "outputId": "db60cbc4-1a5c-49b0-debb-4547d2748f32"
      },
      "execution_count": null,
      "outputs": [
        {
          "output_type": "stream",
          "name": "stdout",
          "text": [
            "<class 'pandas.core.frame.DataFrame'>\n",
            "RangeIndex: 48985 entries, 0 to 48984\n",
            "Data columns (total 2 columns):\n",
            " #   Column  Non-Null Count  Dtype \n",
            "---  ------  --------------  ----- \n",
            " 0   제목      48985 non-null  object\n",
            " 1   처리부서    46071 non-null  object\n",
            "dtypes: object(2)\n",
            "memory usage: 765.5+ KB\n"
          ]
        }
      ]
    },
    {
      "cell_type": "code",
      "source": [
        "new_df3.isna().sum()"
      ],
      "metadata": {
        "colab": {
          "base_uri": "https://localhost:8080/"
        },
        "id": "Jc1FsKZlokR1",
        "outputId": "a03b36b3-898e-4e95-d6c9-0bb00a83c386"
      },
      "execution_count": null,
      "outputs": [
        {
          "output_type": "execute_result",
          "data": {
            "text/plain": [
              "제목         0\n",
              "처리부서    2914\n",
              "dtype: int64"
            ]
          },
          "metadata": {},
          "execution_count": 26
        }
      ]
    },
    {
      "cell_type": "code",
      "source": [
        "new_df3.dropna(axis=0, inplace=True)"
      ],
      "metadata": {
        "id": "aUUN--kaor35"
      },
      "execution_count": null,
      "outputs": []
    },
    {
      "cell_type": "code",
      "source": [
        "new_df3.info()"
      ],
      "metadata": {
        "colab": {
          "base_uri": "https://localhost:8080/"
        },
        "id": "lnYJGMpDpD6R",
        "outputId": "33e31b79-33c7-4354-ddc6-f5e36df66cf4"
      },
      "execution_count": null,
      "outputs": [
        {
          "output_type": "stream",
          "name": "stdout",
          "text": [
            "<class 'pandas.core.frame.DataFrame'>\n",
            "Int64Index: 46071 entries, 1 to 48984\n",
            "Data columns (total 2 columns):\n",
            " #   Column  Non-Null Count  Dtype \n",
            "---  ------  --------------  ----- \n",
            " 0   제목      46071 non-null  object\n",
            " 1   처리부서    46071 non-null  object\n",
            "dtypes: object(2)\n",
            "memory usage: 1.1+ MB\n"
          ]
        }
      ]
    },
    {
      "cell_type": "code",
      "source": [
        "len(new_df3['처리부서'].value_counts())"
      ],
      "metadata": {
        "colab": {
          "base_uri": "https://localhost:8080/"
        },
        "id": "LXftVUH3pPjT",
        "outputId": "6f452329-2381-40ad-9817-ef5201e266c3"
      },
      "execution_count": null,
      "outputs": [
        {
          "output_type": "execute_result",
          "data": {
            "text/plain": [
              "210"
            ]
          },
          "metadata": {},
          "execution_count": 33
        }
      ]
    },
    {
      "cell_type": "code",
      "source": [
        "x = new_df3.drop('처리부서', axis=1)\n",
        "y = new_df3.drop('제목', axis=1)"
      ],
      "metadata": {
        "id": "61Rc6asjp3EB"
      },
      "execution_count": null,
      "outputs": []
    },
    {
      "cell_type": "code",
      "source": [
        "from sklearn.model_selection import train_test_split\n",
        "x_train, x_test, y_train, y_test = train_test_split(x, y, test_size=0.2, random_state=3)"
      ],
      "metadata": {
        "id": "6bAfSUqVpkRx"
      },
      "execution_count": null,
      "outputs": []
    },
    {
      "cell_type": "markdown",
      "source": [
        "\n",
        "\n",
        "```\n",
        "# 코드로 형식 지정됨\n",
        "```\n",
        "\n",
        "## 크롤링"
      ],
      "metadata": {
        "id": "mvQyTpjtqKLU"
      }
    },
    {
      "cell_type": "code",
      "source": [],
      "metadata": {
        "id": "kc4Ofmj0qmQx"
      },
      "execution_count": null,
      "outputs": []
    },
    {
      "cell_type": "code",
      "source": [],
      "metadata": {
        "id": "IK977O3zqrKV"
      },
      "execution_count": null,
      "outputs": []
    },
    {
      "cell_type": "code",
      "source": [],
      "metadata": {
        "id": "ouSi-NpnrFfz"
      },
      "execution_count": null,
      "outputs": []
    },
    {
      "cell_type": "code",
      "source": [],
      "metadata": {
        "id": "b8utP05srPYc"
      },
      "execution_count": null,
      "outputs": []
    }
  ]
}
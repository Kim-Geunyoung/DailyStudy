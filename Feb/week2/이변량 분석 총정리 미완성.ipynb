{
 "cells": [
  {
   "cell_type": "markdown",
   "id": "6aee754f",
   "metadata": {},
   "source": [
    "# 숫자형 -> 숫자형\n",
    "- 시각화 : scatter \n",
    "    - sns.scatterplot(x = '변수', y = '변수', data = df)\n",
    "    - sns.regplot(x = '변수', y = '변수', data = df)\n",
    "- 수치화 : 상관분석\n",
    "    - NaN 확인 = df.isna().sum()\n",
    "    - NaN 제거 = temp = df.loc[tdf['변수'].notnull()] \n",
    "    - spst.pearsonr(df['변수'], df['변수']) -> (상관계수, p-value) |상관계수| 1에 가까울 수록, p-value < 0.05 관계가 있다."
   ]
  },
  {
   "cell_type": "markdown",
   "id": "2f739fd7",
   "metadata": {},
   "source": [
    "# 숫자형 -> 범주형\n",
    "- 시각화 :\n",
    "    - Boxplot : \n",
    "    - Histogram : sns.histplot(x='feature 변수', data = df, hue = '타겟변수')\n",
    "    - Density plot :\n",
    "        * 두가지 방법이 있습니다.\n",
    "        * ① kdeplot(   , hue = 'Survived') \n",
    "            * 생존여부의 비율이 유지된 채로 그려짐\n",
    "            * 두 그래프의 아래 면적의 합이 1\n",
    "            - sns.kdeplot(x='Age', data = titanic, hue ='Survived')\n",
    "        * ② kdeplot(   , hue = 'Survived', common_norm = False)\n",
    "            * 생존여부 각각 아래 면적의 합이 1인 그래프\n",
    "            - sns.kdeplot(x='Age', data = titanic, hue ='Survived', common_norm = False)\n",
    "        * ③ kdeplot(   , hue = 'Survived', multiple = 'fill')\n",
    "            * 나이에 따라 생존여부 **비율**을 비교해볼 수 있음. (양의 비교가 아닌 비율!)\n",
    "            - sns.kdeplot(x='Age', data = titanic, hue ='Survived', multiple = 'fill')\n",
    "            - plt.axhline(titanic['Survived'].mean(), color = 'r')\n"
   ]
  },
  {
   "cell_type": "markdown",
   "id": "6cfc4c78",
   "metadata": {},
   "source": [
    "# 범주형 -> 범주형\n",
    "- 시각화 :\n",
    "    - 교차표 : \n",
    "        - # 두 범주별 빈도수를 교차표로 만들어 봅시다.\n",
    "        - pd.crosstab(df['변수'], df['변수']) normalize = columns, index, all\n",
    "        - <img src='https://github.com/DA4BAM/image/blob/main/crosstab.png?raw=true' width=700/>\n",
    "    - Barplot : \n",
    "    - Mosaic : mosaic(dataframe, [ feature, target]), plt.axhline(1- df['target'].mean(), color = 'r')\n",
    "- 수치화 : \n",
    "    - 카이 제곱 검정 : 카이제곱 통계량이 자유도의 2배보다 크면 관계가 있다고 봄(유의미)\n",
    "        1. 교차표 집계 : table = pd.crosstab(df['변수'], df['변수']) ->  Normalize 옵션을 사용하면 안됨.\n",
    "        2. 카이제곱검정 : spst.chi2_contingency(table)\n",
    "        3. 결과 확인 : 카이제곱 검정 결과 순서대로① 카이제곱 통계량\n",
    "② P-value\n",
    "③ 자유도 : Pclass 자유도(3-1) * Survived 자유도(2-1)\n",
    "④ 기대빈도 : 계산된 값"
   ]
  },
  {
   "attachments": {},
   "cell_type": "markdown",
   "id": "fe277268",
   "metadata": {},
   "source": [
    "# 범주형 -> 숫자형\n",
    "- 시각화 : \n",
    "    - barplot(sns.barplot) : sns.barplot(x = '변수', y = '변수' data = df)\n",
    "- 수치화 : \n",
    "    - NaN 확인 = df.isna().sum()\n",
    "    - NaN 제거 = temp = df.loc[tdf['변수'].notnull()] \n",
    "    - t-test(범주 2개) : t값이 -2보다 작거나 2보다 크면 차이가 있다고 봄\n",
    "        - 두 그룹으로 데이터 저장 -> a = df.loc[df['feature변수'] == df['feature변수'],unique(), 'target변수'] => unique()를 순서대로 넣어줌\n",
    "        - spst.ttest_ind(a, b)\n",
    "    - 분산 분석(ANOVA)(범주 3개 이상) :(집단 간 분산)/(집단 내 분산) = (전체 평균 − 각 집단 평균)/(각 집단의 평균 − 개별 값)\n",
    "        - 각 그룹간 차이가 있는지 알려줌 차이가 있으면 사후분석 즉 따로 때내서 t-test함\n",
    "        - 값이 대략 2~3 이상이면 차이가 있다고 판단합니다.\n",
    "        - 다 동일하고 spst.\n",
    "        - 범주의 종류가 너무 많으면 pd.cut()함수를 이용하여 범주형 변수로 변환하여 분석할 수도 있다."
   ]
  },
  {
   "cell_type": "code",
   "execution_count": null,
   "id": "c16436c4",
   "metadata": {},
   "outputs": [],
   "source": [
    "import pandas as pd\n",
    "import numpy as np\n",
    "import scipy.stats as spst\n",
    "import matplotlib.pyplot as plt\n",
    "import seaborn as sns\n",
    "\n",
    "# info : 범주 -> target : 숫자\n",
    "def draw_barplot(x:str, y:str, data:pd.DataFrame):\n",
    "    plt.figure(figsize = (10,4))\n",
    "    sns.barplot(x=x, y=y, data=data)\n",
    "    plt.grid()\n",
    "    plt.xticks(rotation = 35) \n",
    "    plt.show()\n",
    "    test = list()\n",
    "\n",
    "    if data[x].isna().sum():\n",
    "        data = data.loc[data[x].notnull(), :]\n",
    "\n",
    "    if len(data[x].unique()) > 2:\n",
    "        for u in data[x].unique():\n",
    "            test.append(data.loc[data[x] == u, y])\n",
    "        result = spst.f_oneway(*test)\n",
    "        return print('F-score : {}, P-value : {}'.format(result[0], result[1]))\n",
    "    else:\n",
    "        for u in data[x].unique():\n",
    "            test.append(data.loc[data[x] == u, y])\n",
    "        result = spst.ttest_ind(*test)\n",
    "        return print('T-score : {}, P-value : {}'.format(result[0], result[1]))\n",
    "    \n",
    "    \n",
    "# info : 숫자 -> target : 숫자\n",
    "def draw_scatter(x:str, y:str, data=pd.DataFrame):\n",
    "\n",
    "    sns.jointplot(x=x, y=y, data=data)\n",
    "    plt.show()\n",
    "    \n",
    "    sns.regplot(x=x, y=y, data=data)\n",
    "    plt.show()\n",
    "\n",
    "    result = spst.pearsonr(data[x],data[y])\n",
    "\n",
    "    return print('Pearson : {}, p-value : {}'.format(result[0], result[1]))"
   ]
  },
  {
   "cell_type": "code",
   "execution_count": 1,
   "id": "9d3dbd9d",
   "metadata": {},
   "outputs": [],
   "source": [
    "# 단변량 숫자\n",
    "def draw_one_num(data, var, bins):\n",
    "    # 기초 통계량\n",
    "    display(data[[var]].describe().T)\n",
    "    \n",
    "    # 시각화\n",
    "    plt.figure(figsize = (8, 10))\n",
    "    plt.subplot(2, 1, 1)\n",
    "    sns.histplot(x = var, data = data, bins = bins, kde = True)\n",
    "    \n",
    "    plt.subplot(2, 1, 2)\n",
    "    sns.boxplot(x = var, data = data)\n",
    "    plt.grid()\n",
    "    plt.show()"
   ]
  }
 ],
 "metadata": {
  "kernelspec": {
   "display_name": "Python 3",
   "language": "python",
   "name": "python3"
  },
  "language_info": {
   "codemirror_mode": {
    "name": "ipython",
    "version": 3
   },
   "file_extension": ".py",
   "mimetype": "text/x-python",
   "name": "python",
   "nbconvert_exporter": "python",
   "pygments_lexer": "ipython3",
   "version": "3.10.9"
  },
  "vscode": {
   "interpreter": {
    "hash": "df95319d8ce4e1d89f5365ae10992bc1f65da593082b1d264e8f529830ec2f02"
   }
  }
 },
 "nbformat": 4,
 "nbformat_minor": 5
}
